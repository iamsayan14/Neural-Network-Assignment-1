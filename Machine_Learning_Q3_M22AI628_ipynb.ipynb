{
  "cells": [
    {
      "cell_type": "code",
      "execution_count": null,
      "id": "825b8054",
      "metadata": {
        "id": "825b8054"
      },
      "outputs": [],
      "source": [
        "import numpy as np\n",
        "import tensorflow as tf\n",
        "from tensorflow import keras\n",
        "from keras.models import Sequential\n",
        "import pandas as pd\n",
        "from matplotlib import pyplot as plt\n",
        "import os\n",
        "import cv2\n",
        "from keras.layers import Dense, Conv2D, MaxPooling2D, Flatten,GlobalAveragePooling2D\n",
        "from PIL import Image\n",
        "from sklearn.preprocessing import LabelEncoder\n",
        "from sklearn.metrics import confusion_matrix, classification_report"
      ]
    },
    {
      "cell_type": "code",
      "execution_count": null,
      "id": "c0cdf219",
      "metadata": {
        "id": "c0cdf219"
      },
      "outputs": [],
      "source": [
        "# Define the paths to your image and csv folders\n",
        "train_val_dir = 'C://Users//sayan//Downloads//charts//charts//train_val'\n",
        "test_dir = ''\n",
        "train_path_labels = 'C://Users//sayan//Downloads//charts//charts//train_val.csv'\n",
        "train_val_labels = pd.read_csv(train_path_labels)"
      ]
    },
    {
      "cell_type": "code",
      "execution_count": null,
      "id": "c696f2bc",
      "metadata": {
        "id": "c696f2bc",
        "outputId": "4ad1eae7-4d9d-48a1-b9b3-845e9c6b9ea4"
      },
      "outputs": [
        {
          "name": "stdout",
          "output_type": "stream",
          "text": [
            "0.png\n",
            "1.png\n",
            "10.png\n",
            "100.png\n",
            "101.png\n",
            "102.png\n",
            "103.png\n",
            "104.png\n",
            "105.png\n",
            "106.png\n",
            "107.png\n",
            "108.png\n",
            "109.png\n",
            "11.png\n",
            "110.png\n",
            "111.png\n",
            "112.png\n",
            "113.png\n",
            "114.png\n",
            "115.png\n",
            "116.png\n",
            "117.png\n",
            "118.png\n",
            "119.png\n",
            "12.png\n",
            "120.png\n",
            "121.png\n",
            "122.png\n",
            "123.png\n",
            "124.png\n",
            "125.png\n",
            "126.png\n",
            "127.png\n",
            "128.png\n",
            "129.png\n",
            "13.png\n",
            "130.png\n",
            "131.png\n",
            "132.png\n",
            "133.png\n",
            "134.png\n",
            "135.png\n",
            "136.png\n",
            "137.png\n",
            "138.png\n",
            "139.png\n",
            "14.png\n",
            "140.png\n",
            "141.png\n",
            "142.png\n",
            "143.png\n",
            "144.png\n",
            "145.png\n",
            "146.png\n",
            "147.png\n",
            "148.png\n",
            "149.png\n",
            "15.png\n",
            "150.png\n",
            "151.png\n",
            "152.png\n",
            "153.png\n",
            "154.png\n",
            "155.png\n",
            "156.png\n",
            "157.png\n",
            "158.png\n",
            "159.png\n",
            "16.png\n",
            "160.png\n",
            "161.png\n",
            "162.png\n",
            "163.png\n",
            "164.png\n",
            "165.png\n",
            "166.png\n",
            "167.png\n",
            "168.png\n",
            "169.png\n",
            "17.png\n",
            "170.png\n",
            "171.png\n",
            "172.png\n",
            "173.png\n",
            "174.png\n",
            "175.png\n",
            "176.png\n",
            "177.png\n",
            "178.png\n",
            "179.png\n",
            "18.png\n",
            "180.png\n",
            "181.png\n",
            "182.png\n",
            "183.png\n",
            "184.png\n",
            "185.png\n",
            "186.png\n",
            "187.png\n",
            "188.png\n",
            "189.png\n",
            "19.png\n",
            "190.png\n",
            "191.png\n",
            "192.png\n",
            "193.png\n",
            "194.png\n",
            "195.png\n",
            "196.png\n",
            "197.png\n",
            "198.png\n",
            "199.png\n",
            "2.png\n",
            "20.png\n",
            "200.png\n",
            "201.png\n",
            "202.png\n",
            "203.png\n",
            "204.png\n",
            "205.png\n",
            "206.png\n",
            "207.png\n",
            "208.png\n",
            "209.png\n",
            "21.png\n",
            "210.png\n",
            "211.png\n",
            "212.png\n",
            "213.png\n",
            "214.png\n",
            "215.png\n",
            "216.png\n",
            "217.png\n",
            "218.png\n",
            "219.png\n",
            "22.png\n",
            "220.png\n",
            "221.png\n",
            "222.png\n",
            "223.png\n",
            "224.png\n",
            "225.png\n",
            "226.png\n",
            "227.png\n",
            "228.png\n",
            "229.png\n",
            "23.png\n",
            "230.png\n",
            "231.png\n",
            "232.png\n",
            "233.png\n",
            "234.png\n",
            "235.png\n",
            "236.png\n",
            "237.png\n",
            "238.png\n",
            "239.png\n",
            "24.png\n",
            "240.png\n",
            "241.png\n",
            "242.png\n",
            "243.png\n",
            "244.png\n",
            "245.png\n",
            "246.png\n",
            "247.png\n",
            "248.png\n",
            "249.png\n",
            "25.png\n",
            "250.png\n",
            "251.png\n",
            "252.png\n",
            "253.png\n",
            "254.png\n",
            "255.png\n",
            "256.png\n",
            "257.png\n",
            "258.png\n",
            "259.png\n",
            "26.png\n",
            "260.png\n",
            "261.png\n",
            "262.png\n",
            "263.png\n",
            "264.png\n",
            "265.png\n",
            "266.png\n",
            "267.png\n",
            "268.png\n",
            "269.png\n",
            "27.png\n",
            "270.png\n",
            "271.png\n",
            "272.png\n",
            "273.png\n",
            "274.png\n",
            "275.png\n",
            "276.png\n",
            "277.png\n",
            "278.png\n",
            "279.png\n",
            "28.png\n",
            "280.png\n",
            "281.png\n",
            "282.png\n",
            "283.png\n",
            "284.png\n",
            "285.png\n",
            "286.png\n",
            "287.png\n",
            "288.png\n",
            "289.png\n",
            "29.png\n",
            "290.png\n",
            "291.png\n",
            "292.png\n",
            "293.png\n",
            "294.png\n",
            "295.png\n",
            "296.png\n",
            "297.png\n",
            "298.png\n",
            "299.png\n",
            "3.png\n",
            "30.png\n",
            "300.png\n",
            "301.png\n",
            "302.png\n",
            "303.png\n",
            "304.png\n",
            "305.png\n",
            "306.png\n",
            "307.png\n",
            "308.png\n",
            "309.png\n",
            "31.png\n",
            "310.png\n",
            "311.png\n",
            "312.png\n",
            "313.png\n",
            "314.png\n",
            "315.png\n",
            "316.png\n",
            "317.png\n",
            "318.png\n",
            "319.png\n",
            "32.png\n",
            "320.png\n",
            "321.png\n",
            "322.png\n",
            "323.png\n",
            "324.png\n",
            "325.png\n",
            "326.png\n",
            "327.png\n",
            "328.png\n",
            "329.png\n",
            "33.png\n",
            "330.png\n",
            "331.png\n",
            "332.png\n",
            "333.png\n",
            "334.png\n",
            "335.png\n",
            "336.png\n",
            "337.png\n",
            "338.png\n",
            "339.png\n",
            "34.png\n",
            "340.png\n",
            "341.png\n",
            "342.png\n",
            "343.png\n",
            "344.png\n",
            "345.png\n",
            "346.png\n",
            "347.png\n",
            "348.png\n",
            "349.png\n",
            "35.png\n",
            "350.png\n",
            "351.png\n",
            "352.png\n",
            "353.png\n",
            "354.png\n",
            "355.png\n",
            "356.png\n",
            "357.png\n",
            "358.png\n",
            "359.png\n",
            "36.png\n",
            "360.png\n",
            "361.png\n",
            "362.png\n",
            "363.png\n",
            "364.png\n",
            "365.png\n",
            "366.png\n",
            "367.png\n",
            "368.png\n",
            "369.png\n",
            "37.png\n",
            "370.png\n",
            "371.png\n",
            "372.png\n",
            "373.png\n",
            "374.png\n",
            "375.png\n",
            "376.png\n",
            "377.png\n",
            "378.png\n",
            "379.png\n",
            "38.png\n",
            "380.png\n",
            "381.png\n",
            "382.png\n",
            "383.png\n",
            "384.png\n",
            "385.png\n",
            "386.png\n",
            "387.png\n",
            "388.png\n",
            "389.png\n",
            "39.png\n",
            "390.png\n",
            "391.png\n",
            "392.png\n",
            "393.png\n",
            "394.png\n",
            "395.png\n",
            "396.png\n",
            "397.png\n",
            "398.png\n",
            "399.png\n",
            "4.png\n",
            "40.png\n",
            "400.png\n",
            "401.png\n",
            "402.png\n",
            "403.png\n",
            "404.png\n",
            "405.png\n",
            "406.png\n",
            "407.png\n",
            "408.png\n",
            "409.png\n",
            "41.png\n",
            "410.png\n",
            "411.png\n",
            "412.png\n",
            "413.png\n",
            "414.png\n",
            "415.png\n",
            "416.png\n",
            "417.png\n",
            "418.png\n",
            "419.png\n",
            "42.png\n",
            "420.png\n",
            "421.png\n",
            "422.png\n",
            "423.png\n",
            "424.png\n",
            "425.png\n",
            "426.png\n",
            "427.png\n",
            "428.png\n",
            "429.png\n",
            "43.png\n",
            "430.png\n",
            "431.png\n",
            "432.png\n",
            "433.png\n",
            "434.png\n",
            "435.png\n",
            "436.png\n",
            "437.png\n",
            "438.png\n",
            "439.png\n",
            "44.png\n",
            "440.png\n",
            "441.png\n",
            "442.png\n",
            "443.png\n",
            "444.png\n",
            "445.png\n",
            "446.png\n",
            "447.png\n",
            "448.png\n",
            "449.png\n",
            "45.png\n",
            "450.png\n",
            "451.png\n",
            "452.png\n",
            "453.png\n",
            "454.png\n",
            "455.png\n",
            "456.png\n",
            "457.png\n",
            "458.png\n",
            "459.png\n",
            "46.png\n",
            "460.png\n",
            "461.png\n",
            "462.png\n",
            "463.png\n",
            "464.png\n",
            "465.png\n",
            "466.png\n",
            "467.png\n",
            "468.png\n",
            "469.png\n",
            "47.png\n",
            "470.png\n",
            "471.png\n",
            "472.png\n",
            "473.png\n",
            "474.png\n",
            "475.png\n",
            "476.png\n",
            "477.png\n",
            "478.png\n",
            "479.png\n",
            "48.png\n",
            "480.png\n",
            "481.png\n",
            "482.png\n",
            "483.png\n",
            "484.png\n",
            "485.png\n",
            "486.png\n",
            "487.png\n",
            "488.png\n",
            "489.png\n",
            "49.png\n",
            "490.png\n",
            "491.png\n",
            "492.png\n",
            "493.png\n",
            "494.png\n",
            "495.png\n",
            "496.png\n",
            "497.png\n",
            "498.png\n",
            "499.png\n",
            "5.png\n",
            "50.png\n",
            "500.png\n",
            "501.png\n",
            "502.png\n",
            "503.png\n",
            "504.png\n",
            "505.png\n",
            "506.png\n",
            "507.png\n",
            "508.png\n",
            "509.png\n",
            "51.png\n",
            "510.png\n",
            "511.png\n",
            "512.png\n",
            "513.png\n",
            "514.png\n",
            "515.png\n",
            "516.png\n",
            "517.png\n",
            "518.png\n",
            "519.png\n",
            "52.png\n",
            "520.png\n",
            "521.png\n",
            "522.png\n",
            "523.png\n",
            "524.png\n",
            "525.png\n",
            "526.png\n",
            "527.png\n",
            "528.png\n",
            "529.png\n",
            "53.png\n",
            "530.png\n",
            "531.png\n",
            "532.png\n",
            "533.png\n",
            "534.png\n",
            "535.png\n",
            "536.png\n",
            "537.png\n",
            "538.png\n",
            "539.png\n",
            "54.png\n",
            "540.png\n",
            "541.png\n",
            "542.png\n",
            "543.png\n",
            "544.png\n",
            "545.png\n",
            "546.png\n",
            "547.png\n",
            "548.png\n",
            "549.png\n",
            "55.png\n",
            "550.png\n",
            "551.png\n",
            "552.png\n",
            "553.png\n",
            "554.png\n",
            "555.png\n",
            "556.png\n",
            "557.png\n",
            "558.png\n",
            "559.png\n",
            "56.png\n",
            "560.png\n",
            "561.png\n",
            "562.png\n",
            "563.png\n",
            "564.png\n",
            "565.png\n",
            "566.png\n",
            "567.png\n",
            "568.png\n",
            "569.png\n",
            "57.png\n",
            "570.png\n",
            "571.png\n",
            "572.png\n",
            "573.png\n",
            "574.png\n",
            "575.png\n",
            "576.png\n",
            "577.png\n",
            "578.png\n",
            "579.png\n",
            "58.png\n",
            "580.png\n",
            "581.png\n",
            "582.png\n",
            "583.png\n",
            "584.png\n",
            "585.png\n",
            "586.png\n",
            "587.png\n",
            "588.png\n",
            "589.png\n",
            "59.png\n",
            "590.png\n",
            "591.png\n",
            "592.png\n",
            "593.png\n",
            "594.png\n",
            "595.png\n",
            "596.png\n",
            "597.png\n",
            "598.png\n",
            "599.png\n",
            "6.png\n",
            "60.png\n",
            "600.png\n",
            "601.png\n",
            "602.png\n",
            "603.png\n",
            "604.png\n",
            "605.png\n",
            "606.png\n",
            "607.png\n",
            "608.png\n",
            "609.png\n",
            "61.png\n",
            "610.png\n",
            "611.png\n",
            "612.png\n",
            "613.png\n",
            "614.png\n",
            "615.png\n",
            "616.png\n",
            "617.png\n",
            "618.png\n",
            "619.png\n",
            "62.png\n",
            "620.png\n",
            "621.png\n",
            "622.png\n",
            "623.png\n",
            "624.png\n",
            "625.png\n",
            "626.png\n",
            "627.png\n",
            "628.png\n",
            "629.png\n",
            "63.png\n",
            "630.png\n",
            "631.png\n",
            "632.png\n",
            "633.png\n",
            "634.png\n",
            "635.png\n",
            "636.png\n",
            "637.png\n",
            "638.png\n",
            "639.png\n",
            "64.png\n",
            "640.png\n",
            "641.png\n",
            "642.png\n",
            "643.png\n",
            "644.png\n",
            "645.png\n",
            "646.png\n",
            "647.png\n",
            "648.png\n",
            "649.png\n",
            "65.png\n",
            "650.png\n",
            "651.png\n",
            "652.png\n",
            "653.png\n",
            "654.png\n",
            "655.png\n",
            "656.png\n",
            "657.png\n",
            "658.png\n",
            "659.png\n",
            "66.png\n",
            "660.png\n",
            "661.png\n",
            "662.png\n",
            "663.png\n",
            "664.png\n",
            "665.png\n",
            "666.png\n",
            "667.png\n",
            "668.png\n",
            "669.png\n",
            "67.png\n",
            "670.png\n",
            "671.png\n",
            "672.png\n",
            "673.png\n",
            "674.png\n",
            "675.png\n",
            "676.png\n",
            "677.png\n",
            "678.png\n",
            "679.png\n",
            "68.png\n",
            "680.png\n",
            "681.png\n",
            "682.png\n",
            "683.png\n",
            "684.png\n",
            "685.png\n",
            "686.png\n",
            "687.png\n",
            "688.png\n",
            "689.png\n",
            "69.png\n",
            "690.png\n",
            "691.png\n",
            "692.png\n",
            "693.png\n",
            "694.png\n",
            "695.png\n",
            "696.png\n",
            "697.png\n",
            "698.png\n",
            "699.png\n",
            "7.png\n",
            "70.png\n",
            "700.png\n",
            "701.png\n",
            "702.png\n",
            "703.png\n",
            "704.png\n",
            "705.png\n",
            "706.png\n",
            "707.png\n",
            "708.png\n",
            "709.png\n",
            "71.png\n",
            "710.png\n",
            "711.png\n",
            "712.png\n",
            "713.png\n",
            "714.png\n",
            "715.png\n",
            "716.png\n",
            "717.png\n",
            "718.png\n",
            "719.png\n",
            "72.png\n",
            "720.png\n",
            "721.png\n",
            "722.png\n",
            "723.png\n",
            "724.png\n",
            "725.png\n",
            "726.png\n",
            "727.png\n",
            "728.png\n",
            "729.png\n",
            "73.png\n",
            "730.png\n",
            "731.png\n",
            "732.png\n",
            "733.png\n",
            "734.png\n",
            "735.png\n",
            "736.png\n",
            "737.png\n",
            "738.png\n",
            "739.png\n",
            "74.png\n",
            "740.png\n",
            "741.png\n",
            "742.png\n",
            "743.png\n",
            "744.png\n",
            "745.png\n",
            "746.png\n",
            "747.png\n",
            "748.png\n",
            "749.png\n",
            "75.png\n",
            "750.png\n",
            "751.png\n",
            "752.png\n",
            "753.png\n",
            "754.png\n",
            "755.png\n",
            "756.png\n",
            "757.png\n",
            "758.png\n",
            "759.png\n",
            "76.png\n",
            "760.png\n",
            "761.png\n",
            "762.png\n",
            "763.png\n",
            "764.png\n",
            "765.png\n",
            "766.png\n",
            "767.png\n",
            "768.png\n",
            "769.png\n",
            "77.png\n",
            "770.png\n",
            "771.png\n",
            "772.png\n",
            "773.png\n",
            "774.png\n",
            "775.png\n",
            "776.png\n",
            "777.png\n",
            "778.png\n",
            "779.png\n",
            "78.png\n",
            "780.png\n",
            "781.png\n",
            "782.png\n",
            "783.png\n",
            "784.png\n",
            "785.png\n",
            "786.png\n",
            "787.png\n",
            "788.png\n",
            "789.png\n",
            "79.png\n",
            "790.png\n",
            "791.png\n",
            "792.png\n",
            "793.png\n",
            "794.png\n",
            "795.png\n",
            "796.png\n",
            "797.png\n",
            "798.png\n",
            "799.png\n",
            "8.png\n",
            "80.png\n",
            "800.png\n",
            "801.png\n",
            "802.png\n",
            "803.png\n",
            "804.png\n",
            "805.png\n",
            "806.png\n",
            "807.png\n",
            "808.png\n",
            "809.png\n",
            "81.png\n",
            "810.png\n",
            "811.png\n",
            "812.png\n",
            "813.png\n",
            "814.png\n",
            "815.png\n",
            "816.png\n",
            "817.png\n",
            "818.png\n",
            "819.png\n",
            "82.png\n",
            "820.png\n",
            "821.png\n",
            "822.png\n",
            "823.png\n",
            "824.png\n",
            "825.png\n",
            "826.png\n",
            "827.png\n",
            "828.png\n",
            "829.png\n",
            "83.png\n",
            "830.png\n",
            "831.png\n",
            "832.png\n",
            "833.png\n",
            "834.png\n",
            "835.png\n",
            "836.png\n",
            "837.png\n",
            "838.png\n",
            "839.png\n",
            "84.png\n",
            "840.png\n",
            "841.png\n",
            "842.png\n",
            "843.png\n",
            "844.png\n",
            "845.png\n",
            "846.png\n",
            "847.png\n",
            "848.png\n",
            "849.png\n",
            "85.png\n",
            "850.png\n",
            "851.png\n",
            "852.png\n",
            "853.png\n",
            "854.png\n",
            "855.png\n",
            "856.png\n",
            "857.png\n",
            "858.png\n",
            "859.png\n",
            "86.png\n",
            "860.png\n",
            "861.png\n",
            "862.png\n",
            "863.png\n",
            "864.png\n",
            "865.png\n",
            "866.png\n",
            "867.png\n",
            "868.png\n",
            "869.png\n",
            "87.png\n",
            "870.png\n",
            "871.png\n",
            "872.png\n",
            "873.png\n",
            "874.png\n",
            "875.png\n",
            "876.png\n",
            "877.png\n",
            "878.png\n",
            "879.png\n",
            "88.png\n",
            "880.png\n",
            "881.png\n",
            "882.png\n",
            "883.png\n",
            "884.png\n",
            "885.png\n",
            "886.png\n",
            "887.png\n",
            "888.png\n",
            "889.png\n",
            "89.png\n",
            "890.png\n",
            "891.png\n",
            "892.png\n",
            "893.png\n",
            "894.png\n",
            "895.png\n",
            "896.png\n",
            "897.png\n",
            "898.png\n",
            "899.png\n",
            "9.png\n",
            "90.png\n",
            "900.png\n",
            "901.png\n",
            "902.png\n",
            "903.png\n",
            "904.png\n",
            "905.png\n",
            "906.png\n",
            "907.png\n",
            "908.png\n",
            "909.png\n",
            "91.png\n",
            "910.png\n",
            "911.png\n",
            "912.png\n",
            "913.png\n",
            "914.png\n",
            "915.png\n",
            "916.png\n",
            "917.png\n",
            "918.png\n",
            "919.png\n",
            "92.png\n",
            "920.png\n",
            "921.png\n",
            "922.png\n",
            "923.png\n",
            "924.png\n",
            "925.png\n",
            "926.png\n",
            "927.png\n",
            "928.png\n",
            "929.png\n",
            "93.png\n",
            "930.png\n",
            "931.png\n",
            "932.png\n",
            "933.png\n",
            "934.png\n",
            "935.png\n",
            "936.png\n",
            "937.png\n",
            "938.png\n",
            "939.png\n",
            "94.png\n",
            "940.png\n",
            "941.png\n",
            "942.png\n",
            "943.png\n",
            "944.png\n",
            "945.png\n",
            "946.png\n",
            "947.png\n",
            "948.png\n",
            "949.png\n",
            "95.png\n",
            "950.png\n",
            "951.png\n",
            "952.png\n",
            "953.png\n",
            "954.png\n",
            "955.png\n",
            "956.png\n",
            "957.png\n",
            "958.png\n",
            "959.png\n",
            "96.png\n",
            "960.png\n",
            "961.png\n",
            "962.png\n",
            "963.png\n",
            "964.png\n",
            "965.png\n",
            "966.png\n",
            "967.png\n",
            "968.png\n",
            "969.png\n",
            "97.png\n",
            "970.png\n",
            "971.png\n",
            "972.png\n",
            "973.png\n",
            "974.png\n",
            "975.png\n",
            "976.png\n",
            "977.png\n",
            "978.png\n",
            "979.png\n",
            "98.png\n",
            "980.png\n",
            "981.png\n",
            "982.png\n",
            "983.png\n",
            "984.png\n",
            "985.png\n",
            "986.png\n",
            "987.png\n",
            "988.png\n",
            "989.png\n",
            "99.png\n",
            "990.png\n",
            "991.png\n",
            "992.png\n",
            "993.png\n",
            "994.png\n",
            "995.png\n",
            "996.png\n",
            "997.png\n",
            "998.png\n",
            "999.png\n"
          ]
        }
      ],
      "source": [
        "images = []\n",
        "labels = []\n",
        "for filename in os.listdir(train_val_dir):\n",
        "    print (filename)\n",
        "    if filename.endswith('.png'):\n",
        " # Loading the images and resizing them into (128, 128) with 3 color channels\n",
        "        img = cv2.imread(os.path.join(train_val_dir, filename))\n",
        "        img = cv2.resize(img, (128, 128))\n",
        "        img = cv2.cvtColor(img, cv2.COLOR_BGR2RGB)\n",
        "        img_array = np.array(img)\n",
        "          # Appending the array to the list of images\n",
        "        images.append(img_array)\n",
        "        labels.append(filename)\n",
        "          # Converting the string labels to numerical labels\n",
        "le = LabelEncoder()\n",
        "labels = le.fit_transform(labels)\n",
        "\n",
        "# Converting the lists to NumPy arrays\n",
        "images = np.array(images)\n",
        "labels = np.array(labels)\n",
        "# Saving the arrays in NumPy format\n",
        "np.save('x_train.npy', images)\n",
        "np.save('y_train.npy', labels)\n",
        "x_train = np.load('x_train.npy') \n",
        "y_train = np.load('y_train.npy')"
      ]
    },
    {
      "cell_type": "code",
      "execution_count": null,
      "id": "3dadc8aa",
      "metadata": {
        "id": "3dadc8aa",
        "outputId": "a2f8af77-4ddd-4c7e-d766-f76b7d288b9e"
      },
      "outputs": [
        {
          "data": {
            "text/plain": [
              "(1000, 128, 128, 3)"
            ]
          },
          "execution_count": 4,
          "metadata": {},
          "output_type": "execute_result"
        }
      ],
      "source": [
        "x_train.shape #Gives the no. of images, pixel x pixel and the colour channels"
      ]
    },
    {
      "cell_type": "code",
      "execution_count": null,
      "id": "58a718b3",
      "metadata": {
        "id": "58a718b3",
        "outputId": "4cf8cdfe-e6b1-4bfd-e254-7c97d637fe0b"
      },
      "outputs": [
        {
          "data": {
            "text/plain": [
              "array([[[[255, 255, 255],\n",
              "         [255, 255, 255],\n",
              "         [255, 255, 255],\n",
              "         ...,\n",
              "         [255, 255, 255],\n",
              "         [255, 255, 255],\n",
              "         [255, 255, 255]],\n",
              "\n",
              "        [[255, 255, 255],\n",
              "         [255, 255, 255],\n",
              "         [255, 255, 255],\n",
              "         ...,\n",
              "         [255, 255, 255],\n",
              "         [255, 255, 255],\n",
              "         [255, 255, 255]],\n",
              "\n",
              "        [[255, 255, 255],\n",
              "         [255, 255, 255],\n",
              "         [255, 255, 255],\n",
              "         ...,\n",
              "         [255, 255, 255],\n",
              "         [255, 255, 255],\n",
              "         [255, 255, 255]],\n",
              "\n",
              "        ...,\n",
              "\n",
              "        [[255, 255, 255],\n",
              "         [255, 255, 255],\n",
              "         [255, 255, 255],\n",
              "         ...,\n",
              "         [255, 255, 255],\n",
              "         [255, 255, 255],\n",
              "         [255, 255, 255]],\n",
              "\n",
              "        [[255, 255, 255],\n",
              "         [255, 255, 255],\n",
              "         [255, 255, 255],\n",
              "         ...,\n",
              "         [255, 255, 255],\n",
              "         [255, 255, 255],\n",
              "         [255, 255, 255]],\n",
              "\n",
              "        [[255, 255, 255],\n",
              "         [255, 255, 255],\n",
              "         [255, 255, 255],\n",
              "         ...,\n",
              "         [255, 255, 255],\n",
              "         [255, 255, 255],\n",
              "         [255, 255, 255]]],\n",
              "\n",
              "\n",
              "       [[[255, 255, 255],\n",
              "         [255, 255, 255],\n",
              "         [255, 255, 255],\n",
              "         ...,\n",
              "         [255, 255, 255],\n",
              "         [255, 255, 255],\n",
              "         [255, 255, 255]],\n",
              "\n",
              "        [[255, 255, 255],\n",
              "         [255, 255, 255],\n",
              "         [255, 255, 255],\n",
              "         ...,\n",
              "         [255, 255, 255],\n",
              "         [255, 255, 255],\n",
              "         [255, 255, 255]],\n",
              "\n",
              "        [[255, 255, 255],\n",
              "         [255, 255, 255],\n",
              "         [255, 255, 255],\n",
              "         ...,\n",
              "         [255, 255, 255],\n",
              "         [255, 255, 255],\n",
              "         [255, 255, 255]],\n",
              "\n",
              "        ...,\n",
              "\n",
              "        [[255, 255, 255],\n",
              "         [255, 255, 255],\n",
              "         [255, 255, 255],\n",
              "         ...,\n",
              "         [255, 255, 255],\n",
              "         [255, 255, 255],\n",
              "         [255, 255, 255]],\n",
              "\n",
              "        [[255, 255, 255],\n",
              "         [255, 255, 255],\n",
              "         [255, 255, 255],\n",
              "         ...,\n",
              "         [255, 255, 255],\n",
              "         [255, 255, 255],\n",
              "         [255, 255, 255]],\n",
              "\n",
              "        [[255, 255, 255],\n",
              "         [255, 255, 255],\n",
              "         [255, 255, 255],\n",
              "         ...,\n",
              "         [255, 255, 255],\n",
              "         [255, 255, 255],\n",
              "         [255, 255, 255]]],\n",
              "\n",
              "\n",
              "       [[[255, 255, 255],\n",
              "         [255, 255, 255],\n",
              "         [255, 255, 255],\n",
              "         ...,\n",
              "         [255, 255, 255],\n",
              "         [255, 255, 255],\n",
              "         [255, 255, 255]],\n",
              "\n",
              "        [[255, 255, 255],\n",
              "         [255, 255, 255],\n",
              "         [255, 255, 255],\n",
              "         ...,\n",
              "         [255, 255, 255],\n",
              "         [255, 255, 255],\n",
              "         [255, 255, 255]],\n",
              "\n",
              "        [[255, 255, 255],\n",
              "         [255, 255, 255],\n",
              "         [255, 255, 255],\n",
              "         ...,\n",
              "         [255, 255, 255],\n",
              "         [255, 255, 255],\n",
              "         [255, 255, 255]],\n",
              "\n",
              "        ...,\n",
              "\n",
              "        [[255, 255, 255],\n",
              "         [255, 255, 255],\n",
              "         [255, 255, 255],\n",
              "         ...,\n",
              "         [255, 255, 255],\n",
              "         [255, 255, 255],\n",
              "         [255, 255, 255]],\n",
              "\n",
              "        [[255, 255, 255],\n",
              "         [255, 255, 255],\n",
              "         [255, 255, 255],\n",
              "         ...,\n",
              "         [255, 255, 255],\n",
              "         [255, 255, 255],\n",
              "         [255, 255, 255]],\n",
              "\n",
              "        [[255, 255, 255],\n",
              "         [255, 255, 255],\n",
              "         [255, 255, 255],\n",
              "         ...,\n",
              "         [255, 255, 255],\n",
              "         [255, 255, 255],\n",
              "         [255, 255, 255]]],\n",
              "\n",
              "\n",
              "       [[[255, 255, 255],\n",
              "         [255, 255, 255],\n",
              "         [255, 255, 255],\n",
              "         ...,\n",
              "         [255, 255, 255],\n",
              "         [255, 255, 255],\n",
              "         [255, 255, 255]],\n",
              "\n",
              "        [[255, 255, 255],\n",
              "         [255, 255, 255],\n",
              "         [255, 255, 255],\n",
              "         ...,\n",
              "         [255, 255, 255],\n",
              "         [255, 255, 255],\n",
              "         [255, 255, 255]],\n",
              "\n",
              "        [[255, 255, 255],\n",
              "         [255, 255, 255],\n",
              "         [255, 255, 255],\n",
              "         ...,\n",
              "         [255, 255, 255],\n",
              "         [255, 255, 255],\n",
              "         [255, 255, 255]],\n",
              "\n",
              "        ...,\n",
              "\n",
              "        [[255, 255, 255],\n",
              "         [255, 255, 255],\n",
              "         [255, 255, 255],\n",
              "         ...,\n",
              "         [255, 255, 255],\n",
              "         [255, 255, 255],\n",
              "         [255, 255, 255]],\n",
              "\n",
              "        [[255, 255, 255],\n",
              "         [255, 255, 255],\n",
              "         [255, 255, 255],\n",
              "         ...,\n",
              "         [255, 255, 255],\n",
              "         [255, 255, 255],\n",
              "         [255, 255, 255]],\n",
              "\n",
              "        [[255, 255, 255],\n",
              "         [255, 255, 255],\n",
              "         [255, 255, 255],\n",
              "         ...,\n",
              "         [255, 255, 255],\n",
              "         [255, 255, 255],\n",
              "         [255, 255, 255]]],\n",
              "\n",
              "\n",
              "       [[[255, 255, 255],\n",
              "         [255, 255, 255],\n",
              "         [255, 255, 255],\n",
              "         ...,\n",
              "         [255, 255, 255],\n",
              "         [255, 255, 255],\n",
              "         [255, 255, 255]],\n",
              "\n",
              "        [[255, 255, 255],\n",
              "         [255, 255, 255],\n",
              "         [255, 255, 255],\n",
              "         ...,\n",
              "         [255, 255, 255],\n",
              "         [255, 255, 255],\n",
              "         [255, 255, 255]],\n",
              "\n",
              "        [[255, 255, 255],\n",
              "         [255, 255, 255],\n",
              "         [255, 255, 255],\n",
              "         ...,\n",
              "         [255, 255, 255],\n",
              "         [255, 255, 255],\n",
              "         [255, 255, 255]],\n",
              "\n",
              "        ...,\n",
              "\n",
              "        [[255, 255, 255],\n",
              "         [255, 255, 255],\n",
              "         [255, 255, 255],\n",
              "         ...,\n",
              "         [255, 255, 255],\n",
              "         [255, 255, 255],\n",
              "         [255, 255, 255]],\n",
              "\n",
              "        [[255, 255, 255],\n",
              "         [255, 255, 255],\n",
              "         [255, 255, 255],\n",
              "         ...,\n",
              "         [255, 255, 255],\n",
              "         [255, 255, 255],\n",
              "         [255, 255, 255]],\n",
              "\n",
              "        [[255, 255, 255],\n",
              "         [255, 255, 255],\n",
              "         [255, 255, 255],\n",
              "         ...,\n",
              "         [255, 255, 255],\n",
              "         [255, 255, 255],\n",
              "         [255, 255, 255]]]], dtype=uint8)"
            ]
          },
          "execution_count": 5,
          "metadata": {},
          "output_type": "execute_result"
        }
      ],
      "source": [
        "x_train[:5] #training data after conversion to arrays"
      ]
    },
    {
      "cell_type": "code",
      "execution_count": null,
      "id": "a2484dcc",
      "metadata": {
        "id": "a2484dcc",
        "outputId": "fd1980eb-c733-4026-a1b7-9f89219bef7a"
      },
      "outputs": [
        {
          "data": {
            "text/plain": [
              "array([  0,   1,   2,   3,   4,   5,   6,   7,   8,   9,  10,  11,  12,\n",
              "        13,  14,  15,  16,  17,  18,  19,  20,  21,  22,  23,  24,  25,\n",
              "        26,  27,  28,  29,  30,  31,  32,  33,  34,  35,  36,  37,  38,\n",
              "        39,  40,  41,  42,  43,  44,  45,  46,  47,  48,  49,  50,  51,\n",
              "        52,  53,  54,  55,  56,  57,  58,  59,  60,  61,  62,  63,  64,\n",
              "        65,  66,  67,  68,  69,  70,  71,  72,  73,  74,  75,  76,  77,\n",
              "        78,  79,  80,  81,  82,  83,  84,  85,  86,  87,  88,  89,  90,\n",
              "        91,  92,  93,  94,  95,  96,  97,  98,  99, 100, 101, 102, 103,\n",
              "       104, 105, 106, 107, 108, 109, 110, 111, 112, 113, 114, 115, 116,\n",
              "       117, 118, 119, 120, 121, 122, 123, 124, 125, 126, 127, 128, 129,\n",
              "       130, 131, 132, 133, 134, 135, 136, 137, 138, 139, 140, 141, 142,\n",
              "       143, 144, 145, 146, 147, 148, 149, 150, 151, 152, 153, 154, 155,\n",
              "       156, 157, 158, 159, 160, 161, 162, 163, 164, 165, 166, 167, 168,\n",
              "       169, 170, 171, 172, 173, 174, 175, 176, 177, 178, 179, 180, 181,\n",
              "       182, 183, 184, 185, 186, 187, 188, 189, 190, 191, 192, 193, 194,\n",
              "       195, 196, 197, 198, 199, 200, 201, 202, 203, 204, 205, 206, 207,\n",
              "       208, 209, 210, 211, 212, 213, 214, 215, 216, 217, 218, 219, 220,\n",
              "       221, 222, 223, 224, 225, 226, 227, 228, 229, 230, 231, 232, 233,\n",
              "       234, 235, 236, 237, 238, 239, 240, 241, 242, 243, 244, 245, 246,\n",
              "       247, 248, 249, 250, 251, 252, 253, 254, 255, 256, 257, 258, 259,\n",
              "       260, 261, 262, 263, 264, 265, 266, 267, 268, 269, 270, 271, 272,\n",
              "       273, 274, 275, 276, 277, 278, 279, 280, 281, 282, 283, 284, 285,\n",
              "       286, 287, 288, 289, 290, 291, 292, 293, 294, 295, 296, 297, 298,\n",
              "       299, 300, 301, 302, 303, 304, 305, 306, 307, 308, 309, 310, 311,\n",
              "       312, 313, 314, 315, 316, 317, 318, 319, 320, 321, 322, 323, 324,\n",
              "       325, 326, 327, 328, 329, 330, 331, 332, 333, 334, 335, 336, 337,\n",
              "       338, 339, 340, 341, 342, 343, 344, 345, 346, 347, 348, 349, 350,\n",
              "       351, 352, 353, 354, 355, 356, 357, 358, 359, 360, 361, 362, 363,\n",
              "       364, 365, 366, 367, 368, 369, 370, 371, 372, 373, 374, 375, 376,\n",
              "       377, 378, 379, 380, 381, 382, 383, 384, 385, 386, 387, 388, 389,\n",
              "       390, 391, 392, 393, 394, 395, 396, 397, 398, 399, 400, 401, 402,\n",
              "       403, 404, 405, 406, 407, 408, 409, 410, 411, 412, 413, 414, 415,\n",
              "       416, 417, 418, 419, 420, 421, 422, 423, 424, 425, 426, 427, 428,\n",
              "       429, 430, 431, 432, 433, 434, 435, 436, 437, 438, 439, 440, 441,\n",
              "       442, 443, 444, 445, 446, 447, 448, 449, 450, 451, 452, 453, 454,\n",
              "       455, 456, 457, 458, 459, 460, 461, 462, 463, 464, 465, 466, 467,\n",
              "       468, 469, 470, 471, 472, 473, 474, 475, 476, 477, 478, 479, 480,\n",
              "       481, 482, 483, 484, 485, 486, 487, 488, 489, 490, 491, 492, 493,\n",
              "       494, 495, 496, 497, 498, 499, 500, 501, 502, 503, 504, 505, 506,\n",
              "       507, 508, 509, 510, 511, 512, 513, 514, 515, 516, 517, 518, 519,\n",
              "       520, 521, 522, 523, 524, 525, 526, 527, 528, 529, 530, 531, 532,\n",
              "       533, 534, 535, 536, 537, 538, 539, 540, 541, 542, 543, 544, 545,\n",
              "       546, 547, 548, 549, 550, 551, 552, 553, 554, 555, 556, 557, 558,\n",
              "       559, 560, 561, 562, 563, 564, 565, 566, 567, 568, 569, 570, 571,\n",
              "       572, 573, 574, 575, 576, 577, 578, 579, 580, 581, 582, 583, 584,\n",
              "       585, 586, 587, 588, 589, 590, 591, 592, 593, 594, 595, 596, 597,\n",
              "       598, 599, 600, 601, 602, 603, 604, 605, 606, 607, 608, 609, 610,\n",
              "       611, 612, 613, 614, 615, 616, 617, 618, 619, 620, 621, 622, 623,\n",
              "       624, 625, 626, 627, 628, 629, 630, 631, 632, 633, 634, 635, 636,\n",
              "       637, 638, 639, 640, 641, 642, 643, 644, 645, 646, 647, 648, 649,\n",
              "       650, 651, 652, 653, 654, 655, 656, 657, 658, 659, 660, 661, 662,\n",
              "       663, 664, 665, 666, 667, 668, 669, 670, 671, 672, 673, 674, 675,\n",
              "       676, 677, 678, 679, 680, 681, 682, 683, 684, 685, 686, 687, 688,\n",
              "       689, 690, 691, 692, 693, 694, 695, 696, 697, 698, 699, 700, 701,\n",
              "       702, 703, 704, 705, 706, 707, 708, 709, 710, 711, 712, 713, 714,\n",
              "       715, 716, 717, 718, 719, 720, 721, 722, 723, 724, 725, 726, 727,\n",
              "       728, 729, 730, 731, 732, 733, 734, 735, 736, 737, 738, 739, 740,\n",
              "       741, 742, 743, 744, 745, 746, 747, 748, 749, 750, 751, 752, 753,\n",
              "       754, 755, 756, 757, 758, 759, 760, 761, 762, 763, 764, 765, 766,\n",
              "       767, 768, 769, 770, 771, 772, 773, 774, 775, 776, 777, 778, 779,\n",
              "       780, 781, 782, 783, 784, 785, 786, 787, 788, 789, 790, 791, 792,\n",
              "       793, 794, 795, 796, 797, 798, 799, 800, 801, 802, 803, 804, 805,\n",
              "       806, 807, 808, 809, 810, 811, 812, 813, 814, 815, 816, 817, 818,\n",
              "       819, 820, 821, 822, 823, 824, 825, 826, 827, 828, 829, 830, 831,\n",
              "       832, 833, 834, 835, 836, 837, 838, 839, 840, 841, 842, 843, 844,\n",
              "       845, 846, 847, 848, 849, 850, 851, 852, 853, 854, 855, 856, 857,\n",
              "       858, 859, 860, 861, 862, 863, 864, 865, 866, 867, 868, 869, 870,\n",
              "       871, 872, 873, 874, 875, 876, 877, 878, 879, 880, 881, 882, 883,\n",
              "       884, 885, 886, 887, 888, 889, 890, 891, 892, 893, 894, 895, 896,\n",
              "       897, 898, 899, 900, 901, 902, 903, 904, 905, 906, 907, 908, 909,\n",
              "       910, 911, 912, 913, 914, 915, 916, 917, 918, 919, 920, 921, 922,\n",
              "       923, 924, 925, 926, 927, 928, 929, 930, 931, 932, 933, 934, 935,\n",
              "       936, 937, 938, 939, 940, 941, 942, 943, 944, 945, 946, 947, 948,\n",
              "       949, 950, 951, 952, 953, 954, 955, 956, 957, 958, 959, 960, 961,\n",
              "       962, 963, 964, 965, 966, 967, 968, 969, 970, 971, 972, 973, 974,\n",
              "       975, 976, 977, 978, 979, 980, 981, 982, 983, 984, 985, 986, 987,\n",
              "       988, 989, 990, 991, 992, 993, 994, 995, 996, 997, 998, 999],\n",
              "      dtype=int64)"
            ]
          },
          "execution_count": 6,
          "metadata": {},
          "output_type": "execute_result"
        }
      ],
      "source": [
        "y_train #labels"
      ]
    },
    {
      "cell_type": "code",
      "execution_count": null,
      "id": "78a07054",
      "metadata": {
        "id": "78a07054",
        "outputId": "63a4c9ca-8d52-4e64-a879-03dac0eec368"
      },
      "outputs": [
        {
          "data": {
            "text/plain": [
              "<matplotlib.image.AxesImage at 0x1c10ee74580>"
            ]
          },
          "execution_count": 7,
          "metadata": {},
          "output_type": "execute_result"
        },
        {
          "data": {
            "image/png": "[encoded data removed]",
            "text/plain": [
              "<Figure size 480x480 with 1 Axes>"
            ]
          },
          "metadata": {},
          "output_type": "display_data"
        }
      ],
      "source": [
        "plt.matshow(x_train[1]) #checking whether the correct data is getting fetched using matshow function"
      ]
    },
    {
      "cell_type": "code",
      "execution_count": null,
      "id": "7d259ae6",
      "metadata": {
        "id": "7d259ae6"
      },
      "outputs": [],
      "source": [
        "# load test dataset in numpy array\n",
        "images = [] #defining image array\n",
        "labels = [] #defining labels array\n",
        "for filename in os.listdir(test_dir):\n",
        "    if filename.endswith('.png'): #checking whether the images are in .png format\n",
        "    # Load the images and resize them to (128, 128) with 3 color channels\n",
        "        img = cv2.imread(os.path.join(test_dir, filename)) #imread function to read the images\n",
        "        img = cv2.resize(img, (128, 128)) #rezing the images in 128x128 pixels\n",
        "        img = cv2.cvtColor(img, cv2.COLOR_BGR2RGB)\n",
        "        img_array = np.array(img)\n",
        "          # Append the array to the list of images\n",
        "        images.append(img_array) #appending the images\n",
        "        labels.append(filename) #appending the labels\n",
        "# Convert the string labels to numerical labels\n",
        "le = LabelEncoder()\n",
        "labels = le.fit_transform(labels)"
      ]
    },
    {
      "cell_type": "code",
      "execution_count": null,
      "id": "309bc7b6",
      "metadata": {
        "id": "309bc7b6"
      },
      "outputs": [],
      "source": [
        "# Convert the lists to NumPy arrays\n",
        "images = np.array(images)\n",
        "labels = np.array(labels)\n",
        "# Save the arrays in NumPy format\n",
        "np.save('x_test.npy', images)\n",
        "np.save('y_test.npy', labels)\n",
        "x_test = np.load('x_test.npy') \n",
        "y_test = np.load('y_test.npy')"
      ]
    },
    {
      "cell_type": "code",
      "execution_count": null,
      "id": "53346d7b",
      "metadata": {
        "id": "53346d7b",
        "outputId": "6ceaf16e-40f2-4585-e9db-4c716bd5eb87"
      },
      "outputs": [
        {
          "data": {
            "text/plain": [
              "(50, 128, 128, 3)"
            ]
          },
          "execution_count": 10,
          "metadata": {},
          "output_type": "execute_result"
        }
      ],
      "source": [
        "x_test.shape"
      ]
    },
    {
      "cell_type": "code",
      "execution_count": null,
      "id": "d9b0a310",
      "metadata": {
        "id": "d9b0a310",
        "outputId": "7f713a26-08d1-43c8-c4f4-5c18a5674dbf"
      },
      "outputs": [
        {
          "data": {
            "text/plain": [
              "<matplotlib.image.AxesImage at 0x1c11638b1f0>"
            ]
          },
          "execution_count": 11,
          "metadata": {},
          "output_type": "execute_result"
        },
        {
          "data": {
            "image/png": "[encoded data removed]",
            "text/plain": [
              "<Figure size 1000x200 with 1 Axes>"
            ]
          },
          "metadata": {},
          "output_type": "display_data"
        }
      ],
      "source": [
        "# checking the images loaded for our testing purpose\n",
        "plt.figure(figsize = (10,2))\n",
        "plt.imshow(x_train[10])\n"
      ]
    },
    {
      "cell_type": "code",
      "execution_count": null,
      "id": "682e8d8e",
      "metadata": {
        "id": "682e8d8e"
      },
      "outputs": [],
      "source": []
    },
    {
      "cell_type": "code",
      "execution_count": null,
      "id": "a62fb7ef",
      "metadata": {
        "id": "a62fb7ef",
        "outputId": "3acc7218-541e-4007-87d4-60cec0bdadaf"
      },
      "outputs": [
        {
          "data": {
            "text/plain": [
              "array([3, 3, 3, 3, 3, 3, 3, 3, 3, 3, 3, 3, 3, 3, 3, 3, 3, 3, 3, 3, 3, 3,\n",
              "       3, 3, 3, 3, 3, 3, 3, 3, 3, 3, 3, 3, 3, 3, 3, 3, 3, 3, 3, 3, 3, 3,\n",
              "       3, 3, 3, 3, 3, 3, 3, 3, 3, 3, 3, 3, 3, 3, 3, 3, 3, 3, 3, 3, 3, 3,\n",
              "       3, 3, 3, 3, 3, 3, 3, 3, 3, 3, 3, 3, 3, 3, 3, 3, 3, 3, 3, 3, 3, 3,\n",
              "       3, 3, 3, 3, 3, 3, 3, 3, 3, 3, 3, 3, 3, 3, 3, 3, 3, 3, 3, 3, 3, 3,\n",
              "       3, 3, 3, 3, 3, 3, 3, 3, 3, 3, 3, 3, 3, 3, 3, 3, 3, 3, 3, 3, 3, 3,\n",
              "       3, 3, 3, 3, 3, 3, 3, 3, 3, 3, 3, 3, 3, 3, 3, 3, 3, 3, 3, 3, 3, 3,\n",
              "       3, 3, 3, 3, 3, 3, 3, 3, 3, 3, 3, 3, 3, 3, 3, 3, 3, 3, 3, 3, 3, 3,\n",
              "       3, 3, 3, 3, 3, 3, 3, 3, 3, 3, 3, 3, 3, 3, 3, 3, 3, 3, 3, 3, 3, 3,\n",
              "       3, 3, 2, 2, 2, 2, 2, 2, 2, 2, 2, 2, 2, 2, 2, 2, 2, 2, 2, 2, 2, 2,\n",
              "       2, 2, 2, 2, 2, 2, 2, 2, 2, 2, 2, 2, 2, 2, 2, 2, 2, 2, 2, 2, 2, 2,\n",
              "       2, 2, 2, 2, 2, 2, 2, 2, 2, 2, 2, 2, 2, 2, 2, 2, 2, 2, 2, 2, 2, 2,\n",
              "       2, 2, 2, 2, 2, 2, 2, 2, 2, 2, 2, 2, 2, 2, 2, 2, 2, 2, 2, 2, 2, 2,\n",
              "       2, 2, 2, 2, 2, 2, 2, 2, 2, 2, 2, 2, 2, 2, 2, 2, 2, 2, 2, 2, 2, 2,\n",
              "       2, 2, 2, 2, 2, 2, 2, 2, 2, 2, 2, 2, 2, 2, 2, 2, 2, 2, 2, 2, 2, 2,\n",
              "       2, 2, 2, 2, 2, 2, 2, 2, 2, 2, 2, 2, 2, 2, 2, 2, 2, 2, 2, 2, 2, 2,\n",
              "       2, 2, 2, 2, 2, 2, 2, 2, 2, 2, 2, 2, 2, 2, 2, 2, 2, 2, 2, 2, 2, 2,\n",
              "       2, 2, 2, 2, 2, 2, 2, 2, 2, 2, 2, 2, 2, 2, 2, 2, 2, 2, 2, 2, 2, 2,\n",
              "       2, 2, 2, 2, 0, 0, 0, 0, 0, 0, 0, 0, 0, 0, 0, 0, 0, 0, 0, 0, 0, 0,\n",
              "       0, 0, 0, 0, 0, 0, 0, 0, 0, 0, 0, 0, 0, 0, 0, 0, 0, 0, 0, 0, 0, 0,\n",
              "       0, 0, 0, 0, 0, 0, 0, 0, 0, 0, 0, 0, 0, 0, 0, 0, 0, 0, 0, 0, 0, 0,\n",
              "       0, 0, 0, 0, 0, 0, 0, 0, 0, 0, 0, 0, 0, 0, 0, 0, 0, 0, 0, 0, 0, 0,\n",
              "       0, 0, 0, 0, 0, 0, 0, 0, 0, 0, 0, 0, 0, 0, 0, 0, 0, 0, 0, 0, 0, 0,\n",
              "       0, 0, 0, 0, 0, 0, 0, 0, 0, 0, 0, 0, 0, 0, 0, 0, 0, 0, 0, 0, 0, 0,\n",
              "       0, 0, 0, 0, 0, 0, 0, 0, 0, 0, 0, 0, 0, 0, 0, 0, 0, 0, 0, 0, 0, 0,\n",
              "       0, 0, 0, 0, 0, 0, 0, 0, 0, 0, 0, 0, 0, 0, 0, 0, 0, 0, 0, 0, 0, 0,\n",
              "       0, 0, 0, 0, 0, 0, 0, 0, 0, 0, 0, 0, 0, 0, 0, 0, 0, 0, 0, 0, 0, 0,\n",
              "       0, 0, 0, 0, 0, 0, 4, 4, 4, 4, 4, 4, 4, 4, 4, 4, 4, 4, 4, 4, 4, 4,\n",
              "       4, 4, 4, 4, 4, 4, 4, 4, 4, 4, 4, 4, 4, 4, 4, 4, 4, 4, 4, 4, 4, 4,\n",
              "       4, 4, 4, 4, 4, 4, 4, 4, 4, 4, 4, 4, 4, 4, 4, 4, 4, 4, 4, 4, 4, 4,\n",
              "       4, 4, 4, 4, 4, 4, 4, 4, 4, 4, 4, 4, 4, 4, 4, 4, 4, 4, 4, 4, 4, 4,\n",
              "       4, 4, 4, 4, 4, 4, 4, 4, 4, 4, 4, 4, 4, 4, 4, 4, 4, 4, 4, 4, 4, 4,\n",
              "       4, 4, 4, 4, 4, 4, 4, 4, 4, 4, 4, 4, 4, 4, 4, 4, 4, 4, 4, 4, 4, 4,\n",
              "       4, 4, 4, 4, 4, 4, 4, 4, 4, 4, 4, 4, 4, 4, 4, 4, 4, 4, 4, 4, 4, 4,\n",
              "       4, 4, 4, 4, 4, 4, 4, 4, 4, 4, 4, 4, 4, 4, 4, 4, 4, 4, 4, 4, 4, 4,\n",
              "       4, 4, 4, 4, 4, 4, 4, 4, 4, 4, 4, 4, 4, 4, 4, 4, 4, 4, 4, 4, 4, 4,\n",
              "       4, 4, 4, 4, 4, 4, 4, 4, 1, 1, 1, 1, 1, 1, 1, 1, 1, 1, 1, 1, 1, 1,\n",
              "       1, 1, 1, 1, 1, 1, 1, 1, 1, 1, 1, 1, 1, 1, 1, 1, 1, 1, 1, 1, 1, 1,\n",
              "       1, 1, 1, 1, 1, 1, 1, 1, 1, 1, 1, 1, 1, 1, 1, 1, 1, 1, 1, 1, 1, 1,\n",
              "       1, 1, 1, 1, 1, 1, 1, 1, 1, 1, 1, 1, 1, 1, 1, 1, 1, 1, 1, 1, 1, 1,\n",
              "       1, 1, 1, 1, 1, 1, 1, 1, 1, 1, 1, 1, 1, 1, 1, 1, 1, 1, 1, 1, 1, 1,\n",
              "       1, 1, 1, 1, 1, 1, 1, 1, 1, 1, 1, 1, 1, 1, 1, 1, 1, 1, 1, 1, 1, 1,\n",
              "       1, 1, 1, 1, 1, 1, 1, 1, 1, 1, 1, 1, 1, 1, 1, 1, 1, 1, 1, 1, 1, 1,\n",
              "       1, 1, 1, 1, 1, 1, 1, 1, 1, 1, 1, 1, 1, 1, 1, 1, 1, 1, 1, 1, 1, 1,\n",
              "       1, 1, 1, 1, 1, 1, 1, 1, 1, 1, 1, 1, 1, 1, 1, 1, 1, 1, 1, 1, 1, 1,\n",
              "       1, 1, 1, 1, 1, 1, 1, 1, 1, 1])"
            ]
          },
          "execution_count": 13,
          "metadata": {},
          "output_type": "execute_result"
        }
      ],
      "source": [
        "# defining classes from the images observed\n",
        "image_classes = ['line', 'dot_line', 'hbar_categorical', 'vbar_categorical', 'pie']\n",
        "image_classes[0]\n",
        "#mapping the categories to the labels array\n",
        "label_map = {'line': 0, 'dot_line': 1, 'hbar_categorical': 2, 'vbar_categorical': 3, 'pie': 4}\n",
        "y_train = np.array([label_map[label] for label in train_val_labels['type']])\n",
        "y_train #printing to check the mapping for testing"
      ]
    },
    {
      "cell_type": "code",
      "execution_count": null,
      "id": "0457f4af",
      "metadata": {
        "id": "0457f4af",
        "outputId": "07c72275-81a9-4dad-d959-125f33fbef86"
      },
      "outputs": [
        {
          "data": {
            "text/plain": [
              "(1000,)"
            ]
          },
          "execution_count": 14,
          "metadata": {},
          "output_type": "execute_result"
        }
      ],
      "source": [
        "y_train.shape"
      ]
    },
    {
      "cell_type": "code",
      "execution_count": null,
      "id": "9e626a40",
      "metadata": {
        "id": "9e626a40",
        "outputId": "140702ba-76fc-41f6-de96-ce508b3f7b5d"
      },
      "outputs": [
        {
          "data": {
            "text/plain": [
              "(50,)"
            ]
          },
          "execution_count": 15,
          "metadata": {},
          "output_type": "execute_result"
        }
      ],
      "source": [
        "y_test.shape"
      ]
    },
    {
      "cell_type": "code",
      "execution_count": null,
      "id": "3c10c7c1",
      "metadata": {
        "id": "3c10c7c1"
      },
      "outputs": [],
      "source": [
        "#Mapping the lables from csv to the images\n",
        "#function to test the chart sample\n",
        "def image_sample(x, y, index):\n",
        "    plt.figure(figsize = (10,2))\n",
        "    plt.imshow(x[index])\n",
        "    plt.xlabel(image_classes[y[index]])"
      ]
    },
    {
      "cell_type": "code",
      "execution_count": null,
      "id": "e1c2bb1c",
      "metadata": {
        "id": "e1c2bb1c",
        "outputId": "e62f5d2e-c8be-43c4-9bc3-a85f3fd4368c"
      },
      "outputs": [
        {
          "data": {
            "image/png": "[encoded data removed]",
            "text/plain": [
              "<Figure size 1000x200 with 1 Axes>"
            ]
          },
          "metadata": {},
          "output_type": "display_data"
        },
        {
          "data": {
            "image/png": "[encoded data removed]",
            "text/plain": [
              "<Figure size 1000x200 with 1 Axes>"
            ]
          },
          "metadata": {},
          "output_type": "display_data"
        },
        {
          "data": {
            "image/png": "[encoded data removed]",
            "text/plain": [
              "<Figure size 1000x200 with 1 Axes>"
            ]
          },
          "metadata": {},
          "output_type": "display_data"
        }
      ],
      "source": [
        "#checking for the testing purpose\n",
        "image_sample(x_train,y_train,0)\n",
        "image_sample(x_train,y_train,208)\n",
        "image_sample(x_train,y_train,444)"
      ]
    },
    {
      "cell_type": "code",
      "execution_count": null,
      "id": "18331733",
      "metadata": {
        "id": "18331733",
        "outputId": "65e8d89e-9e81-4810-e102-296ea738ec5a"
      },
      "outputs": [
        {
          "data": {
            "text/plain": [
              "(1000, 128, 128, 3)"
            ]
          },
          "execution_count": 18,
          "metadata": {},
          "output_type": "execute_result"
        }
      ],
      "source": [
        "#Mapping for the corresponding labels to the image is done\n",
        "# normalize the image\n",
        "x_train=x_train /255\n",
        "x_test=x_train /255\n",
        "\n",
        "x_test.shape"
      ]
    },
    {
      "cell_type": "code",
      "execution_count": null,
      "id": "9ab15326",
      "metadata": {
        "id": "9ab15326",
        "outputId": "3e69e45c-749c-41b2-d0a4-cc107ca16c2d"
      },
      "outputs": [
        {
          "data": {
            "text/plain": [
              "0    vbar_categorical\n",
              "1    vbar_categorical\n",
              "2    vbar_categorical\n",
              "3    vbar_categorical\n",
              "4    vbar_categorical\n",
              "Name: type, dtype: object"
            ]
          },
          "execution_count": 19,
          "metadata": {},
          "output_type": "execute_result"
        }
      ],
      "source": [
        "# take the label for train data from csv file\n",
        "y_train_index = train_val_labels['image_index']\n",
        "y_train_type = train_val_labels['type']\n",
        "\n",
        "y_train_type[:5]"
      ]
    },
    {
      "cell_type": "code",
      "execution_count": null,
      "id": "154715eb",
      "metadata": {
        "id": "154715eb"
      },
      "outputs": [],
      "source": [
        "# writing a simple NN for testing\n",
        "# Defining the model architecture\n",
        "model = Sequential([\n",
        " Flatten(input_shape=(128,128,3)),\n",
        " Dense(3000, activation='relu'),\n",
        " Dense(1000, activation='relu'),\n",
        " Dense(5, activation='softmax')\n",
        "])\n"
      ]
    },
    {
      "cell_type": "code",
      "execution_count": null,
      "id": "4c014c78",
      "metadata": {
        "id": "4c014c78",
        "outputId": "d7667118-cc69-45ef-ac4e-141ac2033cf2"
      },
      "outputs": [
        {
          "name": "stdout",
          "output_type": "stream",
          "text": [
            "Epoch 1/5\n",
            "32/32 [==============================] - 26s 287ms/step - loss: 11.3498 - accuracy: 0.2080\n",
            "Epoch 2/5\n",
            "32/32 [==============================] - 9s 278ms/step - loss: 1.6219 - accuracy: 0.2400\n",
            "Epoch 3/5\n",
            "32/32 [==============================] - 10s 299ms/step - loss: 1.6639 - accuracy: 0.2220\n",
            "Epoch 4/5\n",
            "32/32 [==============================] - 9s 282ms/step - loss: 1.6273 - accuracy: 0.2470\n",
            "Epoch 5/5\n",
            "32/32 [==============================] - 9s 279ms/step - loss: 1.7571 - accuracy: 0.1860\n"
          ]
        },
        {
          "data": {
            "text/plain": [
              "<keras.callbacks.History at 0x1c112603b80>"
            ]
          },
          "execution_count": 21,
          "metadata": {},
          "output_type": "execute_result"
        }
      ],
      "source": [
        "# Compiling the model\n",
        "model.compile(optimizer='SGD', loss='sparse_categorical_crossentropy', metrics=['accuracy']) #using the Stochastic Gradient Descent\n",
        "model.fit(x_train,y_train,epochs=5)"
      ]
    },
    {
      "cell_type": "code",
      "execution_count": null,
      "id": "f3ae8bba",
      "metadata": {
        "id": "f3ae8bba",
        "outputId": "2806ef02-e29a-4c77-86fb-4e81819198dd"
      },
      "outputs": [
        {
          "name": "stdout",
          "output_type": "stream",
          "text": [
            "7/7 [==============================] - 3s 85ms/step - loss: 1.6311 - accuracy: 0.2150\n",
            "7/7 [==============================] - 1s 87ms/step\n"
          ]
        }
      ],
      "source": [
        "# Spliting the training images and labels into training and validation sets\n",
        "from sklearn.model_selection import train_test_split #using sklearn lib to split the datas\n",
        "x_train, x_test, y_train, y_test = train_test_split(x_train, y_train, test_size=0.2, random_state=42)\n",
        "\n",
        "model.evaluate(x_test,y_test)\n",
        "\n",
        "y_pred = model.predict(x_test)\n",
        "y_pred\n",
        "y_pred_classes = [np.argmax(ele) for ele in y_pred]"
      ]
    },
    {
      "cell_type": "code",
      "execution_count": null,
      "id": "0a2301f7",
      "metadata": {
        "id": "0a2301f7",
        "outputId": "0f582840-29d5-4d06-c821-a67e2c1b3ed4"
      },
      "outputs": [
        {
          "name": "stdout",
          "output_type": "stream",
          "text": [
            "Train Images Shape: (800, 128, 128, 3)\n",
            "Train Labels Shape: (800,)\n",
            "Test Images Shape: (200, 128, 128, 3)\n",
            "Test Labels Shape: (200,)\n"
          ]
        }
      ],
      "source": [
        "# We see the accuracy is very low and we need to modify our nn to add more layers for better accuracy\n",
        "\n",
        "# Printing the shapes of the arrays to verify that they loaded correctly\n",
        "print(\"Train Images Shape:\", x_train.shape)\n",
        "print(\"Train Labels Shape:\", y_train.shape)\n",
        "print(\"Test Images Shape:\", x_test.shape)\n",
        "print(\"Test Labels Shape:\", y_test.shape)"
      ]
    },
    {
      "cell_type": "code",
      "execution_count": null,
      "id": "bf563cad",
      "metadata": {
        "id": "bf563cad",
        "outputId": "f5434524-5d38-4f91-de97-994cbeaa631f"
      },
      "outputs": [
        {
          "name": "stdout",
          "output_type": "stream",
          "text": [
            "Epoch 1/10\n",
            "1/1 [==============================] - 91s 91s/step - loss: 1.6364 - accuracy: 0.1950 - val_loss: 2.7195 - val_accuracy: 0.1650\n",
            "Epoch 2/10\n",
            "1/1 [==============================] - 10s 10s/step - loss: 2.5694 - accuracy: 0.2087 - val_loss: 2.3154 - val_accuracy: 0.3100\n",
            "Epoch 3/10\n",
            "1/1 [==============================] - 7s 7s/step - loss: 2.3073 - accuracy: 0.3313 - val_loss: 1.9047 - val_accuracy: 0.1850\n",
            "Epoch 4/10\n",
            "1/1 [==============================] - 5s 5s/step - loss: 1.9222 - accuracy: 0.2037 - val_loss: 1.6491 - val_accuracy: 0.1850\n",
            "Epoch 5/10\n",
            "1/1 [==============================] - 11s 11s/step - loss: 1.6642 - accuracy: 0.2062 - val_loss: 1.5743 - val_accuracy: 0.3450\n",
            "Epoch 6/10\n",
            "1/1 [==============================] - 4s 4s/step - loss: 1.5736 - accuracy: 0.3325 - val_loss: 1.6256 - val_accuracy: 0.1650\n",
            "Epoch 7/10\n",
            "1/1 [==============================] - 33s 33s/step - loss: 1.6060 - accuracy: 0.2087 - val_loss: 1.6143 - val_accuracy: 0.1650\n",
            "Epoch 8/10\n",
            "1/1 [==============================] - 3s 3s/step - loss: 1.5920 - accuracy: 0.2125 - val_loss: 1.5690 - val_accuracy: 0.1950\n",
            "Epoch 9/10\n",
            "1/1 [==============================] - 2s 2s/step - loss: 1.5526 - accuracy: 0.2450 - val_loss: 1.5310 - val_accuracy: 0.4000\n",
            "Epoch 10/10\n",
            "1/1 [==============================] - 2s 2s/step - loss: 1.5161 - accuracy: 0.4725 - val_loss: 1.5035 - val_accuracy: 0.3600\n"
          ]
        },
        {
          "data": {
            "image/png": "[encoded data removed]",
            "text/plain": [
              "<Figure size 640x480 with 1 Axes>"
            ]
          },
          "metadata": {},
          "output_type": "display_data"
        }
      ],
      "source": [
        "# Modifying the model architecture to CNN\n",
        "cnn_model = Sequential([\n",
        " Conv2D(filters=16 ,kernel_size=(3,3), activation='relu', input_shape=(128,128,3)),\n",
        " MaxPooling2D(pool_size=(2,2)),\n",
        " Conv2D(32, (3,3), activation='relu'),\n",
        " MaxPooling2D(pool_size=(2,2)),\n",
        " Conv2D(64, (3,3), activation='relu'),\n",
        " MaxPooling2D(pool_size=(2,2)), \n",
        " Flatten(),\n",
        " Dense(128, activation='relu'),\n",
        " Dense(5, activation='softmax')\n",
        "])\n",
        "# Compiling the model\n",
        "cnn_model.compile(optimizer='adam', loss='sparse_categorical_crossentropy', metrics=['accuracy'])\n",
        "# Train the model\n",
        "history = cnn_model.fit(x_train, y_train, batch_size=1000, epochs=10,validation_data=(x_test, y_test))\n",
        "# Plotting the obtained loss\n",
        "plt.plot(history.history['loss'])\n",
        "plt.plot(history.history['val_loss'])\n",
        "plt.title('Model Loss')\n",
        "plt.ylabel('Loss')\n",
        "plt.xlabel('Epoch')\n",
        "plt.legend(['Train', 'Validation'], loc='upper right')\n",
        "plt.show()"
      ]
    },
    {
      "cell_type": "code",
      "execution_count": null,
      "id": "d6fe2f5c",
      "metadata": {
        "id": "d6fe2f5c",
        "outputId": "bf37d8e4-fb2b-40a9-cc47-d9e3e26d68c2"
      },
      "outputs": [
        {
          "name": "stdout",
          "output_type": "stream",
          "text": [
            "7/7 [==============================] - 2s 248ms/step - loss: 1.5035 - accuracy: 0.3600\n",
            "7/7 [==============================] - 2s 61ms/step\n"
          ]
        },
        {
          "data": {
            "text/plain": [
              "[1, 4, 4, 4, 1]"
            ]
          },
          "execution_count": 25,
          "metadata": {},
          "output_type": "execute_result"
        },
        {
          "data": {
            "image/png": "[encoded data removed]",
            "text/plain": [
              "<Figure size 1000x200 with 1 Axes>"
            ]
          },
          "metadata": {},
          "output_type": "display_data"
        },
        {
          "data": {
            "image/png": "[encoded data removed]",
            "text/plain": [
              "<Figure size 1000x200 with 1 Axes>"
            ]
          },
          "metadata": {},
          "output_type": "display_data"
        },
        {
          "data": {
            "image/png": "[encoded data removed]",
            "text/plain": [
              "<Figure size 1000x200 with 1 Axes>"
            ]
          },
          "metadata": {},
          "output_type": "display_data"
        },
        {
          "data": {
            "image/png": "[encoded data removed]",
            "text/plain": [
              "<Figure size 1000x200 with 1 Axes>"
            ]
          },
          "metadata": {},
          "output_type": "display_data"
        }
      ],
      "source": [
        "cnn_model.evaluate(x_test,y_test)\n",
        "\n",
        "image_sample(x_test,y_test,1)\n",
        "image_sample(x_test,y_test,50)\n",
        "image_sample(x_test,y_test,25)\n",
        "image_sample(x_test,y_test,30)\n",
        "\n",
        "# Observation: we can see some wrong predictions\n",
        "\n",
        "y_pred = cnn_model.predict(x_test)\n",
        "y_pred[:5]\n",
        "\n",
        "y_classes = [np.argmax(element) for element in y_pred]\n",
        "y_classes[:5]"
      ]
    },
    {
      "cell_type": "code",
      "execution_count": null,
      "id": "02ae2c7c",
      "metadata": {
        "id": "02ae2c7c",
        "outputId": "5a9336a2-2be7-4783-b2b9-6015505e6095"
      },
      "outputs": [
        {
          "data": {
            "text/plain": [
              "array([0, 4, 4, 4, 0])"
            ]
          },
          "execution_count": 26,
          "metadata": {},
          "output_type": "execute_result"
        }
      ],
      "source": [
        "y_test[:5]"
      ]
    },
    {
      "cell_type": "code",
      "execution_count": null,
      "id": "51e301a1",
      "metadata": {
        "id": "51e301a1",
        "outputId": "16bb2b4a-b282-4a99-f611-991af940d76e"
      },
      "outputs": [
        {
          "name": "stderr",
          "output_type": "stream",
          "text": [
            "C:\\Users\\debay\\anaconda3\\lib\\site-packages\\sklearn\\metrics\\_classification.py:1344: UndefinedMetricWarning: Precision and F-score are ill-defined and being set to 0.0 in labels with no predicted samples. Use `zero_division` parameter to control this behavior.\n",
            "  _warn_prf(average, modifier, msg_start, len(result))\n",
            "C:\\Users\\debay\\anaconda3\\lib\\site-packages\\sklearn\\metrics\\_classification.py:1344: UndefinedMetricWarning: Precision and F-score are ill-defined and being set to 0.0 in labels with no predicted samples. Use `zero_division` parameter to control this behavior.\n",
            "  _warn_prf(average, modifier, msg_start, len(result))\n",
            "C:\\Users\\debay\\anaconda3\\lib\\site-packages\\sklearn\\metrics\\_classification.py:1344: UndefinedMetricWarning: Precision and F-score are ill-defined and being set to 0.0 in labels with no predicted samples. Use `zero_division` parameter to control this behavior.\n",
            "  _warn_prf(average, modifier, msg_start, len(result))\n"
          ]
        },
        {
          "name": "stdout",
          "output_type": "stream",
          "text": [
            "classification report: \n",
            "               precision    recall  f1-score   support\n",
            "\n",
            "           0       0.00      0.00      0.00        37\n",
            "           1       0.31      0.30      0.30        44\n",
            "           2       0.00      0.00      0.00        48\n",
            "           3       0.26      0.97      0.41        33\n",
            "           4       0.77      0.71      0.74        38\n",
            "\n",
            "    accuracy                           0.36       200\n",
            "   macro avg       0.27      0.40      0.29       200\n",
            "weighted avg       0.26      0.36      0.27       200\n",
            "\n",
            "Confusion Matrix:\n",
            "[[ 0 21  0 10  6]\n",
            " [ 0 13  0 31  0]\n",
            " [ 0  7  0 40  1]\n",
            " [ 0  0  0 32  1]\n",
            " [ 0  1  0 10 27]]\n"
          ]
        },
        {
          "data": {
            "image/png": "[encoded data removed]",
            "text/plain": [
              "<Figure size 1000x200 with 1 Axes>"
            ]
          },
          "metadata": {},
          "output_type": "display_data"
        }
      ],
      "source": [
        "# here we see some values are not matching\n",
        "\n",
        "# test actual and predicted\n",
        "image_sample(x_test,y_test,15) #actual\n",
        "image_classes[y_classes[15]] #predicted\n",
        "\n",
        "# some values are not matching\n",
        "print(\"classification report: \\n\", classification_report(y_test,y_classes))\n",
        "\n",
        "# Generate the confusion matrix \n",
        "conf_mat = confusion_matrix(y_test, y_classes)\n",
        "print('Confusion Matrix:')\n",
        "print(conf_mat)"
      ]
    },
    {
      "cell_type": "code",
      "execution_count": null,
      "id": "31a96e86",
      "metadata": {
        "id": "31a96e86",
        "outputId": "78ef5410-1308-477c-857b-a37927b2b31c"
      },
      "outputs": [
        {
          "name": "stdout",
          "output_type": "stream",
          "text": [
            "Downloading data from https://storage.googleapis.com/tensorflow/keras-applications/vgg16/vgg16_weights_tf_dim_ordering_tf_kernels_notop.h5\n",
            "58889256/58889256 [==============================] - 9s 0us/step\n"
          ]
        },
        {
          "data": {
            "image/png": "[encoded data removed]",
            "text/plain": [
              "<Figure size 1000x1000 with 2 Axes>"
            ]
          },
          "metadata": {},
          "output_type": "display_data"
        }
      ],
      "source": [
        "# Plotting the confusion matrix\n",
        "import seaborn as sn\n",
        "plt.figure(figsize = (10,10))\n",
        "sn.heatmap(conf_mat,annot=True,fmt='d')\n",
        "plt.xlabel('Predicted')\n",
        "plt.ylabel('Actual')\n",
        "\n",
        "# for 5 iterations, we can see some promising accuracy, more training will be required for better accuracy\n",
        "# in the confusion matrix, whatever is not in diagonal is a error\n",
        "\n",
        "from tensorflow.keras.applications import VGG16\n",
        "from tensorflow.keras.preprocessing.image import ImageDataGenerator\n",
        "# Load the pre-trained model\n",
        "vgg16_model = VGG16(weights='imagenet', include_top=False, input_shape=(224, 224, 3))\n",
        "\n",
        "# Replacing the final classification layer with a new layer\n",
        "x = vgg16_model.output\n",
        "x = GlobalAveragePooling2D()(x)\n",
        "x = Dense(128, activation='relu')(x)\n",
        "predictions = Dense(5, activation='softmax')(x)\n",
        "pt_model = tf.keras.Model(inputs=vgg16_model.input, outputs=predictions)"
      ]
    },
    {
      "cell_type": "code",
      "execution_count": null,
      "id": "4ec80cb8",
      "metadata": {
        "id": "4ec80cb8",
        "outputId": "3b68bce5-762f-4290-ca69-3f9787442b5f"
      },
      "outputs": [
        {
          "name": "stdout",
          "output_type": "stream",
          "text": [
            "Model: \"model\"\n",
            "_________________________________________________________________\n",
            " Layer (type)                Output Shape              Param #   \n",
            "=================================================================\n",
            " input_1 (InputLayer)        [(None, 224, 224, 3)]     0         \n",
            "                                                                 \n",
            " block1_conv1 (Conv2D)       (None, 224, 224, 64)      1792      \n",
            "                                                                 \n",
            " block1_conv2 (Conv2D)       (None, 224, 224, 64)      36928     \n",
            "                                                                 \n",
            " block1_pool (MaxPooling2D)  (None, 112, 112, 64)      0         \n",
            "                                                                 \n",
            " block2_conv1 (Conv2D)       (None, 112, 112, 128)     73856     \n",
            "                                                                 \n",
            " block2_conv2 (Conv2D)       (None, 112, 112, 128)     147584    \n",
            "                                                                 \n",
            " block2_pool (MaxPooling2D)  (None, 56, 56, 128)       0         \n",
            "                                                                 \n",
            " block3_conv1 (Conv2D)       (None, 56, 56, 256)       295168    \n",
            "                                                                 \n",
            " block3_conv2 (Conv2D)       (None, 56, 56, 256)       590080    \n",
            "                                                                 \n",
            " block3_conv3 (Conv2D)       (None, 56, 56, 256)       590080    \n",
            "                                                                 \n",
            " block3_pool (MaxPooling2D)  (None, 28, 28, 256)       0         \n",
            "                                                                 \n",
            " block4_conv1 (Conv2D)       (None, 28, 28, 512)       1180160   \n",
            "                                                                 \n",
            " block4_conv2 (Conv2D)       (None, 28, 28, 512)       2359808   \n",
            "                                                                 \n",
            " block4_conv3 (Conv2D)       (None, 28, 28, 512)       2359808   \n",
            "                                                                 \n",
            " block4_pool (MaxPooling2D)  (None, 14, 14, 512)       0         \n",
            "                                                                 \n",
            " block5_conv1 (Conv2D)       (None, 14, 14, 512)       2359808   \n",
            "                                                                 \n",
            " block5_conv2 (Conv2D)       (None, 14, 14, 512)       2359808   \n",
            "                                                                 \n",
            " block5_conv3 (Conv2D)       (None, 14, 14, 512)       2359808   \n",
            "                                                                 \n",
            " block5_pool (MaxPooling2D)  (None, 7, 7, 512)         0         \n",
            "                                                                 \n",
            " global_average_pooling2d (G  (None, 512)              0         \n",
            " lobalAveragePooling2D)                                          \n",
            "                                                                 \n",
            " dense_5 (Dense)             (None, 128)               65664     \n",
            "                                                                 \n",
            " dense_6 (Dense)             (None, 5)                 645       \n",
            "                                                                 \n",
            "=================================================================\n",
            "Total params: 14,780,997\n",
            "Trainable params: 0\n",
            "Non-trainable params: 14,780,997\n",
            "_________________________________________________________________\n"
          ]
        }
      ],
      "source": [
        "# Freezing the weights of all layers except the new classification layer\n",
        "for layer in pt_model.layers:\n",
        "     layer.trainable = False\n",
        "\n",
        "# Compiling the model with categorical crossentropy loss and Adam optimizer\n",
        "pt_model.compile(loss='categorical_crossentropy', optimizer='adam', metrics=['accuracy'])\n",
        "\n",
        "# Printing the summary of the model architecture\n",
        "pt_model.summary()"
      ]
    },
    {
      "cell_type": "code",
      "execution_count": null,
      "id": "e4d65b5c",
      "metadata": {
        "id": "e4d65b5c"
      },
      "outputs": [],
      "source": [
        "##############TASK-3 = Finetune for a pretrained network.###########"
      ]
    },
    {
      "cell_type": "code",
      "execution_count": null,
      "id": "56aecb65",
      "metadata": {
        "id": "56aecb65"
      },
      "outputs": [],
      "source": [
        "from keras.applications import VGG16\n",
        "from keras.layers import Dense, Dropout, Flatten\n",
        "from keras.models import Model\n",
        "from keras.optimizers import Adam\n",
        "from keras.preprocessing.image import ImageDataGenerator"
      ]
    },
    {
      "cell_type": "code",
      "execution_count": null,
      "id": "7ab7efdb",
      "metadata": {
        "id": "7ab7efdb"
      },
      "outputs": [],
      "source": [
        "# Setting the input size of the images\n",
        "img_width, img_height = 224, 224"
      ]
    },
    {
      "cell_type": "code",
      "execution_count": null,
      "id": "18cd79f8",
      "metadata": {
        "id": "18cd79f8"
      },
      "outputs": [],
      "source": [
        "# Setting the directories of the training and validation data\n",
        "train_data_dir = \"C://Users//sayan//Downloads//charts//charts//train_val\"\n",
        "val_data_dir = \"C://Users//sayan//Downloads//charts//charts//train_val\""
      ]
    },
    {
      "cell_type": "code",
      "execution_count": null,
      "id": "12b13428",
      "metadata": {
        "id": "12b13428"
      },
      "outputs": [],
      "source": [
        "# Creating an instance of the VGG16 model with pre-trained weights\n",
        "basemodel = VGG16(weights='imagenet', include_top=False, input_shape=(img_width, img_height, 3))"
      ]
    },
    {
      "cell_type": "code",
      "execution_count": null,
      "id": "0dd35c55",
      "metadata": {
        "id": "0dd35c55"
      },
      "outputs": [],
      "source": [
        "# Freezing the layers of the pre-trained model\n",
        "for layer in basemodel.layers:\n",
        "    layer.trainable = False"
      ]
    },
    {
      "cell_type": "code",
      "execution_count": null,
      "id": "9b122f35",
      "metadata": {
        "id": "9b122f35"
      },
      "outputs": [],
      "source": [
        "# Adding new layers to the pre-trained model\n",
        "x = basemodel.output\n",
        "x = Flatten()(x)\n",
        "x = Dense(256, activation='relu')(x)\n",
        "x = Dropout(0.5)(x)\n",
        "predictions = Dense(1, activation='sigmoid')(x)"
      ]
    },
    {
      "cell_type": "code",
      "execution_count": null,
      "id": "3b21d7d7",
      "metadata": {
        "id": "3b21d7d7"
      },
      "outputs": [],
      "source": [
        "# Defining the new model with the pre-trained model as its base and the new layers as its top\n",
        "model = Model(inputs=basemodel.input, outputs=predictions)"
      ]
    },
    {
      "cell_type": "code",
      "execution_count": null,
      "id": "d3761719",
      "metadata": {
        "id": "d3761719"
      },
      "outputs": [],
      "source": [
        "# Compiling the model with a binary crossentropy loss and an Adam optimizer\n",
        "model.compile(loss='binary_crossentropy', optimizer=Adam(learning_rate=1e-5), metrics=['accuracy'])"
      ]
    },
    {
      "cell_type": "code",
      "execution_count": null,
      "id": "32d31720",
      "metadata": {
        "id": "32d31720"
      },
      "outputs": [],
      "source": [
        "# Setting up data augmentation for the training data and validation data\n",
        "train_datagen = ImageDataGenerator(\n",
        "    rescale=1./255,\n",
        "    shear_range=0.2,\n",
        "    zoom_range=0.2,\n",
        "    horizontal_flip=True)\n",
        "\n",
        "val_datagen = ImageDataGenerator(rescale=1./255)"
      ]
    },
    {
      "cell_type": "code",
      "execution_count": null,
      "id": "d7fcf6f5",
      "metadata": {
        "id": "d7fcf6f5"
      },
      "outputs": [],
      "source": [
        "# Setting the batch size\n",
        "batch_size = 16\n",
        "\n",
        "# Setting the number of training and validation samples\n",
        "nb_train_samples = 1600\n",
        "nb_val_samples = 400\n",
        "\n",
        "# Setting the number of epochs\n",
        "epochs = 10"
      ]
    },
    {
      "cell_type": "code",
      "execution_count": null,
      "id": "0dcc3bd8",
      "metadata": {
        "id": "0dcc3bd8",
        "outputId": "2a00cae7-e813-421a-9a33-672f7d05d322"
      },
      "outputs": [
        {
          "name": "stdout",
          "output_type": "stream",
          "text": [
            "Found 0 images belonging to 0 classes.\n",
            "Found 0 images belonging to 0 classes.\n"
          ]
        },
        {
          "ename": "ValueError",
          "evalue": "Asked to retrieve element 0, but the Sequence has length 0",
          "output_type": "error",
          "traceback": [
            "\u001b[1;31m---------------------------------------------------------------------------\u001b[0m",
            "\u001b[1;31mValueError\u001b[0m                                Traceback (most recent call last)",
            "Cell \u001b[1;32mIn[50], line 2\u001b[0m\n\u001b[0;32m      1\u001b[0m \u001b[38;5;66;03m# Train the model with the data generators\u001b[39;00m\n\u001b[1;32m----> 2\u001b[0m history \u001b[38;5;241m=\u001b[39m \u001b[43mmodel\u001b[49m\u001b[38;5;241;43m.\u001b[39;49m\u001b[43mfit\u001b[49m\u001b[43m(\u001b[49m\n\u001b[0;32m      3\u001b[0m \u001b[43m    \u001b[49m\u001b[43mtrain_datagen\u001b[49m\u001b[38;5;241;43m.\u001b[39;49m\u001b[43mflow_from_directory\u001b[49m\u001b[43m(\u001b[49m\u001b[43mtrain_data_dir\u001b[49m\u001b[43m,\u001b[49m\u001b[43m \u001b[49m\u001b[43mtarget_size\u001b[49m\u001b[38;5;241;43m=\u001b[39;49m\u001b[43m(\u001b[49m\u001b[43mimg_width\u001b[49m\u001b[43m,\u001b[49m\u001b[43m \u001b[49m\u001b[43mimg_height\u001b[49m\u001b[43m)\u001b[49m\u001b[43m,\u001b[49m\u001b[43m \u001b[49m\u001b[43mbatch_size\u001b[49m\u001b[38;5;241;43m=\u001b[39;49m\u001b[43mbatch_size\u001b[49m\u001b[43m,\u001b[49m\u001b[43m \u001b[49m\u001b[43mclass_mode\u001b[49m\u001b[38;5;241;43m=\u001b[39;49m\u001b[38;5;124;43m'\u001b[39;49m\u001b[38;5;124;43mbinary\u001b[39;49m\u001b[38;5;124;43m'\u001b[39;49m\u001b[43m)\u001b[49m\u001b[43m,\u001b[49m\n\u001b[0;32m      4\u001b[0m \u001b[43m    \u001b[49m\u001b[43msteps_per_epoch\u001b[49m\u001b[38;5;241;43m=\u001b[39;49m\u001b[43mnb_train_samples\u001b[49m\u001b[43m \u001b[49m\u001b[38;5;241;43m/\u001b[39;49m\u001b[38;5;241;43m/\u001b[39;49m\u001b[43m \u001b[49m\u001b[43mbatch_size\u001b[49m\u001b[43m,\u001b[49m\n\u001b[0;32m      5\u001b[0m \u001b[43m    \u001b[49m\u001b[43mepochs\u001b[49m\u001b[38;5;241;43m=\u001b[39;49m\u001b[43mepochs\u001b[49m\u001b[43m,\u001b[49m\n\u001b[0;32m      6\u001b[0m \u001b[43m    \u001b[49m\u001b[43mvalidation_data\u001b[49m\u001b[38;5;241;43m=\u001b[39;49m\u001b[43mval_datagen\u001b[49m\u001b[38;5;241;43m.\u001b[39;49m\u001b[43mflow_from_directory\u001b[49m\u001b[43m(\u001b[49m\u001b[43mval_data_dir\u001b[49m\u001b[43m,\u001b[49m\u001b[43m \u001b[49m\u001b[43mtarget_size\u001b[49m\u001b[38;5;241;43m=\u001b[39;49m\u001b[43m(\u001b[49m\u001b[43mimg_width\u001b[49m\u001b[43m,\u001b[49m\u001b[43m \u001b[49m\u001b[43mimg_height\u001b[49m\u001b[43m)\u001b[49m\u001b[43m,\u001b[49m\u001b[43m \u001b[49m\u001b[43mbatch_size\u001b[49m\u001b[38;5;241;43m=\u001b[39;49m\u001b[43mbatch_size\u001b[49m\u001b[43m,\u001b[49m\u001b[43m \u001b[49m\u001b[43mclass_mode\u001b[49m\u001b[38;5;241;43m=\u001b[39;49m\u001b[38;5;124;43m'\u001b[39;49m\u001b[38;5;124;43mbinary\u001b[39;49m\u001b[38;5;124;43m'\u001b[39;49m\u001b[43m)\u001b[49m\u001b[43m,\u001b[49m\n\u001b[0;32m      7\u001b[0m \u001b[43m    \u001b[49m\u001b[43mvalidation_steps\u001b[49m\u001b[38;5;241;43m=\u001b[39;49m\u001b[43mnb_val_samples\u001b[49m\u001b[43m \u001b[49m\u001b[38;5;241;43m/\u001b[39;49m\u001b[38;5;241;43m/\u001b[39;49m\u001b[43m \u001b[49m\u001b[43mbatch_size\u001b[49m\u001b[43m)\u001b[49m\n",
            "File \u001b[1;32m~\\anaconda3\\lib\\site-packages\\keras\\utils\\traceback_utils.py:70\u001b[0m, in \u001b[0;36mfilter_traceback.<locals>.error_handler\u001b[1;34m(*args, **kwargs)\u001b[0m\n\u001b[0;32m     67\u001b[0m     filtered_tb \u001b[38;5;241m=\u001b[39m _process_traceback_frames(e\u001b[38;5;241m.\u001b[39m__traceback__)\n\u001b[0;32m     68\u001b[0m     \u001b[38;5;66;03m# To get the full stack trace, call:\u001b[39;00m\n\u001b[0;32m     69\u001b[0m     \u001b[38;5;66;03m# `tf.debugging.disable_traceback_filtering()`\u001b[39;00m\n\u001b[1;32m---> 70\u001b[0m     \u001b[38;5;28;01mraise\u001b[39;00m e\u001b[38;5;241m.\u001b[39mwith_traceback(filtered_tb) \u001b[38;5;28;01mfrom\u001b[39;00m \u001b[38;5;28mNone\u001b[39m\n\u001b[0;32m     71\u001b[0m \u001b[38;5;28;01mfinally\u001b[39;00m:\n\u001b[0;32m     72\u001b[0m     \u001b[38;5;28;01mdel\u001b[39;00m filtered_tb\n",
            "File \u001b[1;32m~\\anaconda3\\lib\\site-packages\\keras\\preprocessing\\image.py:103\u001b[0m, in \u001b[0;36mIterator.__getitem__\u001b[1;34m(self, idx)\u001b[0m\n\u001b[0;32m    101\u001b[0m \u001b[38;5;28;01mdef\u001b[39;00m \u001b[38;5;21m__getitem__\u001b[39m(\u001b[38;5;28mself\u001b[39m, idx):\n\u001b[0;32m    102\u001b[0m     \u001b[38;5;28;01mif\u001b[39;00m idx \u001b[38;5;241m>\u001b[39m\u001b[38;5;241m=\u001b[39m \u001b[38;5;28mlen\u001b[39m(\u001b[38;5;28mself\u001b[39m):\n\u001b[1;32m--> 103\u001b[0m         \u001b[38;5;28;01mraise\u001b[39;00m \u001b[38;5;167;01mValueError\u001b[39;00m(\n\u001b[0;32m    104\u001b[0m             \u001b[38;5;124m\"\u001b[39m\u001b[38;5;124mAsked to retrieve element \u001b[39m\u001b[38;5;132;01m{idx}\u001b[39;00m\u001b[38;5;124m, \u001b[39m\u001b[38;5;124m\"\u001b[39m\n\u001b[0;32m    105\u001b[0m             \u001b[38;5;124m\"\u001b[39m\u001b[38;5;124mbut the Sequence \u001b[39m\u001b[38;5;124m\"\u001b[39m\n\u001b[0;32m    106\u001b[0m             \u001b[38;5;124m\"\u001b[39m\u001b[38;5;124mhas length \u001b[39m\u001b[38;5;132;01m{length}\u001b[39;00m\u001b[38;5;124m\"\u001b[39m\u001b[38;5;241m.\u001b[39mformat(idx\u001b[38;5;241m=\u001b[39midx, length\u001b[38;5;241m=\u001b[39m\u001b[38;5;28mlen\u001b[39m(\u001b[38;5;28mself\u001b[39m))\n\u001b[0;32m    107\u001b[0m         )\n\u001b[0;32m    108\u001b[0m     \u001b[38;5;28;01mif\u001b[39;00m \u001b[38;5;28mself\u001b[39m\u001b[38;5;241m.\u001b[39mseed \u001b[38;5;129;01mis\u001b[39;00m \u001b[38;5;129;01mnot\u001b[39;00m \u001b[38;5;28;01mNone\u001b[39;00m:\n\u001b[0;32m    109\u001b[0m         np\u001b[38;5;241m.\u001b[39mrandom\u001b[38;5;241m.\u001b[39mseed(\u001b[38;5;28mself\u001b[39m\u001b[38;5;241m.\u001b[39mseed \u001b[38;5;241m+\u001b[39m \u001b[38;5;28mself\u001b[39m\u001b[38;5;241m.\u001b[39mtotal_batches_seen)\n",
            "\u001b[1;31mValueError\u001b[0m: Asked to retrieve element 0, but the Sequence has length 0"
          ]
        }
      ],
      "source": [
        "# Training the model with the data generators\n",
        "history = model.fit(\n",
        "    train_datagen.flow_from_directory(train_data_dir, target_size=(img_width, img_height), batch_size=batch_size, class_mode='binary'),\n",
        "    steps_per_epoch=nb_train_samples // batch_size,\n",
        "    epochs=epochs,\n",
        "    validation_data=val_datagen.flow_from_directory(val_data_dir, target_size=(img_width, img_height), batch_size=batch_size, class_mode='binary'),\n",
        "    validation_steps=nb_val_samples // batch_size)"
      ]
    },
    {
      "cell_type": "code",
      "execution_count": null,
      "id": "93518462",
      "metadata": {
        "id": "93518462"
      },
      "outputs": [],
      "source": [
        "# Evaluating the model on the test data\n",
        "test_datagen = ImageDataGenerator(rescale=1./255)\n",
        "test_data_dir =\"C://Users//sayan//Downloads//charts//charts//test\""
      ]
    },
    {
      "cell_type": "code",
      "execution_count": null,
      "id": "047a51fd",
      "metadata": {
        "id": "047a51fd",
        "outputId": "5f000c48-6b44-480c-a9ff-4bd8a4b69147"
      },
      "outputs": [
        {
          "name": "stdout",
          "output_type": "stream",
          "text": [
            "Found 0 images belonging to 0 classes.\n"
          ]
        }
      ],
      "source": [
        "test_generator = test_datagen.flow_from_directory(\n",
        "    test_data_dir,\n",
        "    target_size=(img_width, img_height),\n",
        "    batch_size=batch_size,\n",
        "    class_mode='binary')"
      ]
    },
    {
      "cell_type": "code",
      "execution_count": null,
      "id": "a54236cc",
      "metadata": {
        "id": "a54236cc",
        "outputId": "4fe8e927-0688-4f3b-d17f-87d373d4a001"
      },
      "outputs": [
        {
          "ename": "ValueError",
          "evalue": "Asked to retrieve element 0, but the Sequence has length 0",
          "output_type": "error",
          "traceback": [
            "\u001b[1;31m---------------------------------------------------------------------------\u001b[0m",
            "\u001b[1;31mValueError\u001b[0m                                Traceback (most recent call last)",
            "Cell \u001b[1;32mIn[53], line 1\u001b[0m\n\u001b[1;32m----> 1\u001b[0m test_loss, test_acc \u001b[38;5;241m=\u001b[39m \u001b[43mmodel\u001b[49m\u001b[38;5;241;43m.\u001b[39;49m\u001b[43mevaluate\u001b[49m\u001b[43m(\u001b[49m\u001b[43mtest_generator\u001b[49m\u001b[43m,\u001b[49m\u001b[43m \u001b[49m\u001b[43msteps\u001b[49m\u001b[38;5;241;43m=\u001b[39;49m\u001b[38;5;28;43mlen\u001b[39;49m\u001b[43m(\u001b[49m\u001b[43mtest_generator\u001b[49m\u001b[43m)\u001b[49m\u001b[43m)\u001b[49m\n",
            "File \u001b[1;32m~\\anaconda3\\lib\\site-packages\\keras\\utils\\traceback_utils.py:70\u001b[0m, in \u001b[0;36mfilter_traceback.<locals>.error_handler\u001b[1;34m(*args, **kwargs)\u001b[0m\n\u001b[0;32m     67\u001b[0m     filtered_tb \u001b[38;5;241m=\u001b[39m _process_traceback_frames(e\u001b[38;5;241m.\u001b[39m__traceback__)\n\u001b[0;32m     68\u001b[0m     \u001b[38;5;66;03m# To get the full stack trace, call:\u001b[39;00m\n\u001b[0;32m     69\u001b[0m     \u001b[38;5;66;03m# `tf.debugging.disable_traceback_filtering()`\u001b[39;00m\n\u001b[1;32m---> 70\u001b[0m     \u001b[38;5;28;01mraise\u001b[39;00m e\u001b[38;5;241m.\u001b[39mwith_traceback(filtered_tb) \u001b[38;5;28;01mfrom\u001b[39;00m \u001b[38;5;28mNone\u001b[39m\n\u001b[0;32m     71\u001b[0m \u001b[38;5;28;01mfinally\u001b[39;00m:\n\u001b[0;32m     72\u001b[0m     \u001b[38;5;28;01mdel\u001b[39;00m filtered_tb\n",
            "File \u001b[1;32m~\\anaconda3\\lib\\site-packages\\keras\\preprocessing\\image.py:103\u001b[0m, in \u001b[0;36mIterator.__getitem__\u001b[1;34m(self, idx)\u001b[0m\n\u001b[0;32m    101\u001b[0m \u001b[38;5;28;01mdef\u001b[39;00m \u001b[38;5;21m__getitem__\u001b[39m(\u001b[38;5;28mself\u001b[39m, idx):\n\u001b[0;32m    102\u001b[0m     \u001b[38;5;28;01mif\u001b[39;00m idx \u001b[38;5;241m>\u001b[39m\u001b[38;5;241m=\u001b[39m \u001b[38;5;28mlen\u001b[39m(\u001b[38;5;28mself\u001b[39m):\n\u001b[1;32m--> 103\u001b[0m         \u001b[38;5;28;01mraise\u001b[39;00m \u001b[38;5;167;01mValueError\u001b[39;00m(\n\u001b[0;32m    104\u001b[0m             \u001b[38;5;124m\"\u001b[39m\u001b[38;5;124mAsked to retrieve element \u001b[39m\u001b[38;5;132;01m{idx}\u001b[39;00m\u001b[38;5;124m, \u001b[39m\u001b[38;5;124m\"\u001b[39m\n\u001b[0;32m    105\u001b[0m             \u001b[38;5;124m\"\u001b[39m\u001b[38;5;124mbut the Sequence \u001b[39m\u001b[38;5;124m\"\u001b[39m\n\u001b[0;32m    106\u001b[0m             \u001b[38;5;124m\"\u001b[39m\u001b[38;5;124mhas length \u001b[39m\u001b[38;5;132;01m{length}\u001b[39;00m\u001b[38;5;124m\"\u001b[39m\u001b[38;5;241m.\u001b[39mformat(idx\u001b[38;5;241m=\u001b[39midx, length\u001b[38;5;241m=\u001b[39m\u001b[38;5;28mlen\u001b[39m(\u001b[38;5;28mself\u001b[39m))\n\u001b[0;32m    107\u001b[0m         )\n\u001b[0;32m    108\u001b[0m     \u001b[38;5;28;01mif\u001b[39;00m \u001b[38;5;28mself\u001b[39m\u001b[38;5;241m.\u001b[39mseed \u001b[38;5;129;01mis\u001b[39;00m \u001b[38;5;129;01mnot\u001b[39;00m \u001b[38;5;28;01mNone\u001b[39;00m:\n\u001b[0;32m    109\u001b[0m         np\u001b[38;5;241m.\u001b[39mrandom\u001b[38;5;241m.\u001b[39mseed(\u001b[38;5;28mself\u001b[39m\u001b[38;5;241m.\u001b[39mseed \u001b[38;5;241m+\u001b[39m \u001b[38;5;28mself\u001b[39m\u001b[38;5;241m.\u001b[39mtotal_batches_seen)\n",
            "\u001b[1;31mValueError\u001b[0m: Asked to retrieve element 0, but the Sequence has length 0"
          ]
        }
      ],
      "source": [
        "test_loss, test_acc = model.evaluate(test_generator, steps=len(test_generator))"
      ]
    },
    {
      "cell_type": "code",
      "execution_count": null,
      "id": "7a98dba3",
      "metadata": {
        "id": "7a98dba3",
        "outputId": "9e32b899-4fdd-4934-d0e4-1ec8544cb697"
      },
      "outputs": [
        {
          "ename": "NameError",
          "evalue": "name 'test_acc' is not defined",
          "output_type": "error",
          "traceback": [
            "\u001b[1;31m---------------------------------------------------------------------------\u001b[0m",
            "\u001b[1;31mNameError\u001b[0m                                 Traceback (most recent call last)",
            "Cell \u001b[1;32mIn[54], line 1\u001b[0m\n\u001b[1;32m----> 1\u001b[0m \u001b[38;5;28mprint\u001b[39m(\u001b[38;5;124m'\u001b[39m\u001b[38;5;124mTest accuracy:\u001b[39m\u001b[38;5;124m'\u001b[39m, \u001b[43mtest_acc\u001b[49m)\n\u001b[0;32m      2\u001b[0m \u001b[38;5;28mprint\u001b[39m(\u001b[38;5;124m'\u001b[39m\u001b[38;5;124mTest loss:\u001b[39m\u001b[38;5;124m'\u001b[39m, test_loss)\n",
            "\u001b[1;31mNameError\u001b[0m: name 'test_acc' is not defined"
          ]
        }
      ],
      "source": [
        "print('Test accuracy:', test_acc)\n",
        "print('Test loss:', test_loss)"
      ]
    },
    {
      "cell_type": "code",
      "execution_count": null,
      "id": "848ff71a",
      "metadata": {
        "id": "848ff71a"
      },
      "outputs": [],
      "source": []
    }
  ],
  "metadata": {
    "kernelspec": {
      "display_name": "Python 3 (ipykernel)",
      "language": "python",
      "name": "python3"
    },
    "language_info": {
      "codemirror_mode": {
        "name": "ipython",
        "version": 3
      },
      "file_extension": ".py",
      "mimetype": "text/x-python",
      "name": "python",
      "nbconvert_exporter": "python",
      "pygments_lexer": "ipython3",
      "version": "3.10.9"
    },
    "colab": {
      "provenance": []
    }
  },
  "nbformat": 4,
  "nbformat_minor": 5
}